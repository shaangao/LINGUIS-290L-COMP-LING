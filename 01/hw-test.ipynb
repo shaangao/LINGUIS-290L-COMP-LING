{
 "cells": [
  {
   "cell_type": "markdown",
   "metadata": {},
   "source": [
    "Test \"homework :\" Organization and orientation"
   ]
  },
  {
   "cell_type": "code",
   "execution_count": 1,
   "metadata": {},
   "outputs": [],
   "source": [
    "import pandas as pd"
   ]
  },
  {
   "cell_type": "markdown",
   "metadata": {},
   "source": [
    "Read in WALS data, index by column 0 which is WALS code."
   ]
  },
  {
   "cell_type": "code",
   "execution_count": 2,
   "metadata": {},
   "outputs": [],
   "source": [
    "df = pd.read_csv('wals-languages.csv', index_col=0)"
   ]
  },
  {
   "cell_type": "markdown",
   "metadata": {},
   "source": [
    "Print out df indices, columns"
   ]
  },
  {
   "cell_type": "code",
   "execution_count": 3,
   "metadata": {},
   "outputs": [
    {
     "name": "stdout",
     "output_type": "stream",
     "text": [
      "df indices: ----\n",
      "Index(['aab', 'aar', 'aba', 'abb', 'abd', 'abe', 'abh', 'abi', 'abk', 'abm',\n",
      "       ...\n",
      "       'zqo', 'zqr', 'zqs', 'zso', 'zsq', 'zte', 'zul', 'zun', 'zya', 'zzo'],\n",
      "      dtype='object', name='wals_code', length=2679)\n",
      "\n",
      "df columns: ----\n",
      "Index(['iso_code', 'glottocode', 'Name', 'latitude', 'longitude', 'genus',\n",
      "       'family', 'macroarea', 'countrycodes', '1A Consonant Inventories',\n",
      "       ...\n",
      "       '137B M in Second Person Singular', '136B M in First Person Singular',\n",
      "       '109B Other Roles of Applied Objects',\n",
      "       '10B Nasal Vowels in West Africa',\n",
      "       '25B Zero Marking of A and P Arguments',\n",
      "       '21B Exponence of Tense-Aspect-Mood Inflection',\n",
      "       '108B Productivity of the Antipassive Construction',\n",
      "       '130B Cultural Categories of Languages with Identity of 'Finger' and 'Hand'',\n",
      "       '58B Number of Possessive Nouns',\n",
      "       '79B Suppletion in Imperatives and Hortatives'],\n",
      "      dtype='object', length=201)\n",
      "\n"
     ]
    }
   ],
   "source": [
    "print(\"df indices: ----\")\n",
    "print(df.index)\n",
    "print()\n",
    "print(\"df columns: ----\")\n",
    "print(df.columns)\n",
    "print()"
   ]
  },
  {
   "cell_type": "markdown",
   "metadata": {},
   "source": [
    "Extract the column of names, and print them."
   ]
  },
  {
   "cell_type": "code",
   "execution_count": 4,
   "metadata": {},
   "outputs": [
    {
     "name": "stdout",
     "output_type": "stream",
     "text": [
      "names: ----\n",
      "wals_code\n",
      "aab            Arapesh (Abu)\n",
      "aar                     Aari\n",
      "aba                     Abau\n",
      "abb    Arabic (Abbéché Chad)\n",
      "abd                   Abidji\n",
      "               ...          \n",
      "zte     Zapotec (Texmelucan)\n",
      "zul                     Zulu\n",
      "zun                     Zuni\n",
      "zya       Zapotec (Yatzachi)\n",
      "zzo       Zapotec (Zoogocho)\n",
      "Name: Name, Length: 2679, dtype: object\n",
      "\n"
     ]
    }
   ],
   "source": [
    "names = df['Name']\n",
    "print(\"names: ----\")\n",
    "print(names)\n",
    "print()"
   ]
  },
  {
   "cell_type": "markdown",
   "metadata": {},
   "source": [
    "Print out info on two WALS lgs"
   ]
  },
  {
   "cell_type": "code",
   "execution_count": 5,
   "metadata": {},
   "outputs": [
    {
     "name": "stdout",
     "output_type": "stream",
     "text": [
      "info on two lgs: ----\n",
      "WALS code: tmr\n",
      "  language name: Temiar\n",
      "  genus: Aslian\n",
      "  area: Eurasia\n",
      "\n",
      "WALS code: zzo\n",
      "  language name: Zapotec (Zoogocho)\n",
      "  genus: Zapotecan\n",
      "  area: North America\n",
      "\n"
     ]
    }
   ],
   "source": [
    "print(\"info on two lgs: ----\")\n",
    "code = 'tmr'\n",
    "print(\"WALS code:\", code)\n",
    "print(\"  language name:\", df.loc[code]['Name'])\n",
    "print(\"  genus:\", df.loc[code]['genus'])\n",
    "print(\"  area:\", df.loc[code]['macroarea'])\n",
    "print()\n",
    "\n",
    "code = 'zzo'\n",
    "print(\"WALS code:\", code)\n",
    "print(\"  language name:\", df.loc[code]['Name'])\n",
    "print(\"  genus:\", df.loc[code]['genus'])\n",
    "print(\"  area:\", df.loc[code]['macroarea'])\n",
    "print()"
   ]
  },
  {
   "cell_type": "code",
   "execution_count": null,
   "metadata": {},
   "outputs": [],
   "source": []
  }
 ],
 "metadata": {
  "kernelspec": {
   "display_name": "Python 3",
   "language": "python",
   "name": "python3"
  },
  "language_info": {
   "codemirror_mode": {
    "name": "ipython",
    "version": 3
   },
   "file_extension": ".py",
   "mimetype": "text/x-python",
   "name": "python",
   "nbconvert_exporter": "python",
   "pygments_lexer": "ipython3",
   "version": "3.8.5"
  }
 },
 "nbformat": 4,
 "nbformat_minor": 2
}
