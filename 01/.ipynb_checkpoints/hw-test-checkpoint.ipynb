{
 "cells": [
  {
   "cell_type": "markdown",
   "metadata": {},
   "source": [
    "Test \"homework :\" Organization and orientation"
   ]
  },
  {
   "cell_type": "code",
   "execution_count": null,
   "metadata": {
    "collapsed": true
   },
   "outputs": [],
   "source": [
    "import pandas as pd"
   ]
  },
  {
   "cell_type": "markdown",
   "metadata": {},
   "source": [
    "Read in WALS data, index by column 0 which is WALS code."
   ]
  },
  {
   "cell_type": "code",
   "execution_count": null,
   "metadata": {
    "collapsed": true
   },
   "outputs": [],
   "source": [
    "df = pd.read_csv('wals-languages.csv', index_col=0)"
   ]
  },
  {
   "cell_type": "markdown",
   "metadata": {},
   "source": [
    "Print out df indices, columns"
   ]
  },
  {
   "cell_type": "code",
   "execution_count": null,
   "metadata": {},
   "outputs": [],
   "source": [
    "print(\"df indices: ----\")\n",
    "print(df.index)\n",
    "print()\n",
    "print(\"df columns: ----\")\n",
    "print(df.columns)\n",
    "print()"
   ]
  },
  {
   "cell_type": "markdown",
   "metadata": {},
   "source": [
    "Extract the column of names, and print them."
   ]
  },
  {
   "cell_type": "code",
   "execution_count": null,
   "metadata": {},
   "outputs": [],
   "source": [
    "names = df['Name']\n",
    "print(\"names: ----\")\n",
    "print(names)\n",
    "print()"
   ]
  },
  {
   "cell_type": "markdown",
   "metadata": {},
   "source": [
    "Print out info on two WALS lgs"
   ]
  },
  {
   "cell_type": "code",
   "execution_count": null,
   "metadata": {},
   "outputs": [],
   "source": [
    "print(\"info on two lgs: ----\")\n",
    "code = 'tmr'\n",
    "print(\"WALS code:\", code)\n",
    "print(\"  language name:\", df.loc[code]['Name'])\n",
    "print(\"  genus:\", df.loc[code]['genus'])\n",
    "print(\"  area:\", df.loc[code]['macroarea'])\n",
    "print()\n",
    "\n",
    "code = 'zzo'\n",
    "print(\"WALS code:\", code)\n",
    "print(\"  language name:\", df.loc[code]['Name'])\n",
    "print(\"  genus:\", df.loc[code]['genus'])\n",
    "print(\"  area:\", df.loc[code]['macroarea'])\n",
    "print()"
   ]
  }
 ],
 "metadata": {
  "kernelspec": {
   "display_name": "Python 3",
   "language": "python",
   "name": "python3"
  },
  "language_info": {
   "codemirror_mode": {
    "name": "ipython",
    "version": 3
   },
   "file_extension": ".py",
   "mimetype": "text/x-python",
   "name": "python",
   "nbconvert_exporter": "python",
   "pygments_lexer": "ipython3",
   "version": "3.8.5"
  }
 },
 "nbformat": 4,
 "nbformat_minor": 2
}
