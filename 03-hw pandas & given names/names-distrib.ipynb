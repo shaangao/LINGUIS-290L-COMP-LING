{
 "cells": [
  {
   "cell_type": "markdown",
   "metadata": {},
   "source": [
    "# Homework: \"Karen\"\n",
    "Sep. 9, 2020\n",
    "\n",
    "More Pandas, but this time tackling a sociolinguistic issue: the recent prominence of the stereotype \"Karen\".\n",
    "\n",
    "The woman's name Karen, which was previously entirely unremarkable, has recently become understood to pejoratively reference a specific social type: an entitled and officious white woman, typically with short-ish blonde hair, middle-aged, who imperiously demands to \"speak with the manager\".\n",
    "\n",
    "This stereotype sits in a somewhat complicated positiion in our current social climate.  On the one hand, \"Karens\" are frequently mocked for their racism, so the use of the term tends to signal an anti-racist stance.  On the other hand, the stereotype also appears to have [sexist undertones](https://www.latimes.com/opinion/story/2020-05-23/column-karen-meme-white-women-behaving-badly): why hold a woman's name up for mockery in this connection, and not a man's?   This has led a number of people to ask: what is the male version of \"Karen\"?\n",
    "\n",
    "Unhappily for me, someone has recently argued that the male version of \"Karen\" is \"Terry\".  \n",
    "\n",
    "And this isn't just speculation - there is actual data backing it up.  It turns out that the [frequency profiles over historical time](https://www.reddit.com/r/dataisbeautiful/comments/i9ljw9/i_analysed_70_years_of_baby_names_in_the_us_to/) of the names \"Karen\" and \"Terry\" in the US are quite similar in shape.  The data are from the US Social Security Administration, specifically their [Popular Baby Names dataset](https://www.ssa.gov/oact/babynames/limits.html), which covers the years 1880-2018.  I have downloaded the data and included it in this homework folder.\n",
    "\n",
    "Your homework assignment is to replicate this finding, examine its assumptions, and see if you can save your poor instructor by finding solid grounds for pushing back against the original claim.  \n",
    "\n",
    "If that doesn't work, at least we'll have tried."
   ]
  },
  {
   "cell_type": "code",
   "execution_count": 2,
   "metadata": {},
   "outputs": [],
   "source": [
    "import pandas as pd\n",
    "import numpy as np\n",
    "import matplotlib.pyplot as plt\n",
    "from sklearn.metrics import mean_squared_error"
   ]
  },
  {
   "cell_type": "code",
   "execution_count": 4,
   "metadata": {},
   "outputs": [
    {
     "data": {
      "text/html": [
       "<div>\n",
       "<style scoped>\n",
       "    .dataframe tbody tr th:only-of-type {\n",
       "        vertical-align: middle;\n",
       "    }\n",
       "\n",
       "    .dataframe tbody tr th {\n",
       "        vertical-align: top;\n",
       "    }\n",
       "\n",
       "    .dataframe thead th {\n",
       "        text-align: right;\n",
       "    }\n",
       "</style>\n",
       "<table border=\"1\" class=\"dataframe\">\n",
       "  <thead>\n",
       "    <tr style=\"text-align: right;\">\n",
       "      <th></th>\n",
       "      <th>Name</th>\n",
       "      <th>Sex</th>\n",
       "      <th>Count</th>\n",
       "      <th>YOB</th>\n",
       "    </tr>\n",
       "  </thead>\n",
       "  <tbody>\n",
       "    <tr>\n",
       "      <th>0</th>\n",
       "      <td>Mary</td>\n",
       "      <td>F</td>\n",
       "      <td>7065</td>\n",
       "      <td>1880</td>\n",
       "    </tr>\n",
       "    <tr>\n",
       "      <th>1</th>\n",
       "      <td>Anna</td>\n",
       "      <td>F</td>\n",
       "      <td>2604</td>\n",
       "      <td>1880</td>\n",
       "    </tr>\n",
       "    <tr>\n",
       "      <th>2</th>\n",
       "      <td>Emma</td>\n",
       "      <td>F</td>\n",
       "      <td>2003</td>\n",
       "      <td>1880</td>\n",
       "    </tr>\n",
       "    <tr>\n",
       "      <th>3</th>\n",
       "      <td>Elizabeth</td>\n",
       "      <td>F</td>\n",
       "      <td>1939</td>\n",
       "      <td>1880</td>\n",
       "    </tr>\n",
       "    <tr>\n",
       "      <th>4</th>\n",
       "      <td>Minnie</td>\n",
       "      <td>F</td>\n",
       "      <td>1746</td>\n",
       "      <td>1880</td>\n",
       "    </tr>\n",
       "    <tr>\n",
       "      <th>...</th>\n",
       "      <td>...</td>\n",
       "      <td>...</td>\n",
       "      <td>...</td>\n",
       "      <td>...</td>\n",
       "    </tr>\n",
       "    <tr>\n",
       "      <th>32028</th>\n",
       "      <td>Zylas</td>\n",
       "      <td>M</td>\n",
       "      <td>5</td>\n",
       "      <td>2018</td>\n",
       "    </tr>\n",
       "    <tr>\n",
       "      <th>32029</th>\n",
       "      <td>Zyran</td>\n",
       "      <td>M</td>\n",
       "      <td>5</td>\n",
       "      <td>2018</td>\n",
       "    </tr>\n",
       "    <tr>\n",
       "      <th>32030</th>\n",
       "      <td>Zyrie</td>\n",
       "      <td>M</td>\n",
       "      <td>5</td>\n",
       "      <td>2018</td>\n",
       "    </tr>\n",
       "    <tr>\n",
       "      <th>32031</th>\n",
       "      <td>Zyron</td>\n",
       "      <td>M</td>\n",
       "      <td>5</td>\n",
       "      <td>2018</td>\n",
       "    </tr>\n",
       "    <tr>\n",
       "      <th>32032</th>\n",
       "      <td>Zzyzx</td>\n",
       "      <td>M</td>\n",
       "      <td>5</td>\n",
       "      <td>2018</td>\n",
       "    </tr>\n",
       "  </tbody>\n",
       "</table>\n",
       "<p>1957046 rows × 4 columns</p>\n",
       "</div>"
      ],
      "text/plain": [
       "            Name Sex  Count   YOB\n",
       "0           Mary   F   7065  1880\n",
       "1           Anna   F   2604  1880\n",
       "2           Emma   F   2003  1880\n",
       "3      Elizabeth   F   1939  1880\n",
       "4         Minnie   F   1746  1880\n",
       "...          ...  ..    ...   ...\n",
       "32028      Zylas   M      5  2018\n",
       "32029      Zyran   M      5  2018\n",
       "32030      Zyrie   M      5  2018\n",
       "32031      Zyron   M      5  2018\n",
       "32032      Zzyzx   M      5  2018\n",
       "\n",
       "[1957046 rows x 4 columns]"
      ]
     },
     "execution_count": 4,
     "metadata": {},
     "output_type": "execute_result"
    }
   ],
   "source": [
    "# we start by creating a df, reading in all SSA baby-name data, and loading it into that df.\n",
    "# insert YOB = year of birth as new column in df.  we will need this.\n",
    "df = pd.DataFrame()\n",
    "for year in range(1880,2018+1):\n",
    "    indf = pd.read_csv(\"data/yob\"+str(year)+\".txt\",names=['Name','Sex','Count'])\n",
    "    indf['YOB'] = year\n",
    "    df = df.append(indf)\n",
    "df"
   ]
  },
  {
   "cell_type": "code",
   "execution_count": 6,
   "metadata": {},
   "outputs": [
    {
     "data": {
      "text/html": [
       "<div>\n",
       "<style scoped>\n",
       "    .dataframe tbody tr th:only-of-type {\n",
       "        vertical-align: middle;\n",
       "    }\n",
       "\n",
       "    .dataframe tbody tr th {\n",
       "        vertical-align: top;\n",
       "    }\n",
       "\n",
       "    .dataframe thead th {\n",
       "        text-align: right;\n",
       "    }\n",
       "</style>\n",
       "<table border=\"1\" class=\"dataframe\">\n",
       "  <thead>\n",
       "    <tr style=\"text-align: right;\">\n",
       "      <th></th>\n",
       "      <th>Count</th>\n",
       "      <th>YOB</th>\n",
       "    </tr>\n",
       "  </thead>\n",
       "  <tbody>\n",
       "    <tr>\n",
       "      <th>count</th>\n",
       "      <td>1.95705e+06</td>\n",
       "      <td>1.95705e+06</td>\n",
       "    </tr>\n",
       "    <tr>\n",
       "      <th>mean</th>\n",
       "      <td>179.686</td>\n",
       "      <td>1975.56</td>\n",
       "    </tr>\n",
       "    <tr>\n",
       "      <th>std</th>\n",
       "      <td>1522.8</td>\n",
       "      <td>34.1912</td>\n",
       "    </tr>\n",
       "    <tr>\n",
       "      <th>min</th>\n",
       "      <td>5</td>\n",
       "      <td>1880</td>\n",
       "    </tr>\n",
       "    <tr>\n",
       "      <th>25%</th>\n",
       "      <td>7</td>\n",
       "      <td>1952</td>\n",
       "    </tr>\n",
       "    <tr>\n",
       "      <th>50%</th>\n",
       "      <td>12</td>\n",
       "      <td>1985</td>\n",
       "    </tr>\n",
       "    <tr>\n",
       "      <th>75%</th>\n",
       "      <td>32</td>\n",
       "      <td>2004</td>\n",
       "    </tr>\n",
       "    <tr>\n",
       "      <th>max</th>\n",
       "      <td>99689</td>\n",
       "      <td>2018</td>\n",
       "    </tr>\n",
       "  </tbody>\n",
       "</table>\n",
       "</div>"
      ],
      "text/plain": [
       "             Count          YOB\n",
       "count  1.95705e+06  1.95705e+06\n",
       "mean       179.686      1975.56\n",
       "std         1522.8      34.1912\n",
       "min              5         1880\n",
       "25%              7         1952\n",
       "50%             12         1985\n",
       "75%             32         2004\n",
       "max          99689         2018"
      ]
     },
     "execution_count": 6,
     "metadata": {},
     "output_type": "execute_result"
    }
   ],
   "source": [
    "# that takes a while, but the result is a df of length 1,957,046.\n",
    "# now let's get some basic descriptive statistics.\n",
    "df.describe().apply(lambda s: s.apply(lambda x: format(x, 'g')))  # suppress scientific notation"
   ]
  },
  {
   "cell_type": "markdown",
   "metadata": {},
   "source": [
    "### Replicate the original finding.\n",
    "\n",
    "The original finding plotted, for both \"Karen\" and \"Terry\", the number of births per year in the US as a percent of peak popularity."
   ]
  },
  {
   "cell_type": "code",
   "execution_count": 4,
   "metadata": {},
   "outputs": [
    {
     "data": {
      "image/png": "[encoded data removed]",
      "text/plain": [
       "<Figure size 720x288 with 1 Axes>"
      ]
     },
     "metadata": {
      "needs_background": "light"
     },
     "output_type": "display_data"
    }
   ],
   "source": [
    "# Karen first.\n",
    "# NB: Karen is sometimes used as a man's name - filter those out, and get the Karen df.\n",
    "# NB: i am making a COPY so that kdf can be munged independently of df.\n",
    "# otherwise you get a warning about updating a derivative of a df.\n",
    "kdf = df[(df.Name=='Karen') & (df.Sex=='F')].copy()  # select corresponding rows; make a copy\n",
    "k_peak = kdf.Count.max()  # peak popularity.\n",
    "kdf['ScaledCount'] = kdf.Count / k_peak  # number of births as percent of peak popularity.\n",
    "kdf.plot(kind='line',x='YOB',y='ScaledCount',label='Karen (F)', figsize=(10,4))\n",
    "plt.show()"
   ]
  },
  {
   "cell_type": "code",
   "execution_count": 5,
   "metadata": {},
   "outputs": [
    {
     "data": {
      "image/png": "[encoded data removed]",
      "text/plain": [
       "<Figure size 720x288 with 1 Axes>"
      ]
     },
     "metadata": {
      "needs_background": "light"
     },
     "output_type": "display_data"
    }
   ],
   "source": [
    "# now the same thing for Terry, as a man's name.\n",
    "tdf = df[(df.Name=='Terry') & (df.Sex=='M')].copy()\n",
    "t_peak = tdf.Count.max()  # peak popularity.\n",
    "tdf['ScaledCount'] = tdf.Count / t_peak  # number of births as percent of peak popularity.\n",
    "tdf.plot(kind='line',x='YOB',y='ScaledCount',label='Terry (M)', figsize=(10,4))\n",
    "plt.show()"
   ]
  },
  {
   "cell_type": "code",
   "execution_count": 6,
   "metadata": {},
   "outputs": [
    {
     "data": {
      "image/png": "[encoded data removed]",
      "text/plain": [
       "<Figure size 720x288 with 1 Axes>"
      ]
     },
     "metadata": {
      "needs_background": "light"
     },
     "output_type": "display_data"
    }
   ],
   "source": [
    "# now plot both together\n",
    "ax = plt.gca()  # get current axis to share.\n",
    "kdf.plot(kind='line',x='YOB',y='ScaledCount',label='Karen (F)', ax=ax, figsize=(10,4))\n",
    "tdf.plot(kind='line',x='YOB',y='ScaledCount',label='Terry (M)', ax=ax, figsize=(10,4))\n",
    "plt.show()"
   ]
  },
  {
   "cell_type": "code",
   "execution_count": 7,
   "metadata": {},
   "outputs": [
    {
     "data": {
      "image/png": "[encoded data removed]",
      "text/plain": [
       "<Figure size 720x288 with 1 Axes>"
      ]
     },
     "metadata": {
      "needs_background": "light"
     },
     "output_type": "display_data"
    }
   ],
   "source": [
    "# now plot both together, but only the recent past, as in the reddit post.\n",
    "ax = plt.gca()  # get current axis to share.\n",
    "kdf[kdf.YOB>=1946].plot(kind='line',x='YOB',y='ScaledCount',label='Karen (F)',ax=ax, figsize=(10,4))\n",
    "tdf[tdf.YOB>=1946].plot(kind='line',x='YOB',y='ScaledCount',label='Terry (M)',ax=ax, figsize=(10,4))\n",
    "plt.show()"
   ]
  },
  {
   "cell_type": "markdown",
   "metadata": {},
   "source": [
    "OK, that looks like a replication, at least qualitatively.  It seems the Reddit post had the curves for Karen and Terry swapped, but that doesn't really change anything."
   ]
  },
  {
   "cell_type": "markdown",
   "metadata": {},
   "source": [
    "### Extension\n",
    "\n",
    "There are at least 2 questions left open by the analysis above.\n",
    "\n",
    "- The data were plotted as a percent of peak popularity.  This means any difference in overall popularity of names is completely ignored, and all we get is a normalized profile that necessarily peaks at 1.0.  How would the results of the analysis change if we were to instead consider raw counts, rather than counts as a percent of peak popularity?\n",
    "- Are there other male names that fit the Karen curve even more closely?  The Reddit post suggests (but doesn't actually say) that Terry fits more closely than other male names.  Let's find out - and we can do so for both ways of considering the data: percent of peak popularity, and raw counts."
   ]
  },
  {
   "cell_type": "code",
   "execution_count": 8,
   "metadata": {
    "scrolled": true
   },
   "outputs": [
    {
     "data": {
      "image/png": "[encoded data removed]",
      "text/plain": [
       "<Figure size 720x288 with 1 Axes>"
      ]
     },
     "metadata": {
      "needs_background": "light"
     },
     "output_type": "display_data"
    }
   ],
   "source": [
    "# let's start by plotting raw counts for Karen and Terry.\n",
    "# and let's plot all years, so we get the full picture.\n",
    "# this is just like our previous all-years plot for both names, but we want raw counts now.\n",
    "\n",
    "# YOUR CODE GOES HERE.\n",
    "ax = plt.gca()\n",
    "kdf.plot(kind='line',x='YOB',y='Count',label='Karen (F)', ax=ax, figsize=(10,4))\n",
    "tdf.plot(kind='line',x='YOB',y='Count',label='Terry (M)', ax=ax, figsize=(10,4))\n",
    "plt.show()"
   ]
  },
  {
   "cell_type": "markdown",
   "metadata": {},
   "source": [
    "However well or poorly Terry aligns with Karen in terms of raw counts, it might align better with Karen than any other male name does.  Is that the case?  Let's find out.\n",
    "\n",
    "To do that, we will:\n",
    "- Pull together all male names.\n",
    "- Notice that there are lots of them.\n",
    "- Sort them by frequency to focus on the top 100.\n",
    "- Reassure ourselves that Terry is in that much smaller set.  \n",
    "- Compare the profile of each male name in that smaller set with the profile of Karen, and find the best match.\n",
    "\n",
    "We want a smaller set just to keep the amount of computation reasonable.\n",
    "\n",
    "I have done this for you, to set you up for the next step, below."
   ]
  },
  {
   "cell_type": "code",
   "execution_count": 9,
   "metadata": {},
   "outputs": [
    {
     "name": "stdout",
     "output_type": "stream",
     "text": [
      "There are 41475 names for men in the dataset.\n"
     ]
    }
   ],
   "source": [
    "# start by getting all names for men.\n",
    "names_male = df[df.Sex=='M'].Name.unique() # 41,475\n",
    "print(\"There are\", len(names_male), \"names for men in the dataset.\")"
   ]
  },
  {
   "cell_type": "code",
   "execution_count": 10,
   "metadata": {},
   "outputs": [
    {
     "data": {
      "text/plain": [
       "Name\n",
       "Aaban     114\n",
       "Aabid      16\n",
       "Aabir      10\n",
       "Aadam     273\n",
       "Aadan     130\n",
       "         ... \n",
       "Zyus       11\n",
       "Zyvion      5\n",
       "Zyvon       7\n",
       "Zyyon       6\n",
       "Zzyzx      10\n",
       "Name: Count, Length: 41475, dtype: int64"
      ]
     },
     "execution_count": 10,
     "metadata": {},
     "output_type": "execute_result"
    }
   ],
   "source": [
    "# that's a lot of names!  let's see if we can get away with considering only the top 100 or so.\n",
    "# group by names, restricting attn to men for now.\n",
    "grouped = df[df.Sex=='M'].groupby('Name')\n",
    "# find out how often each name was used overall.\n",
    "counts = grouped.Count.sum()\n",
    "counts"
   ]
  },
  {
   "cell_type": "code",
   "execution_count": 11,
   "metadata": {},
   "outputs": [
    {
     "data": {
      "text/plain": [
       "Name\n",
       "James      5164280\n",
       "John       5124817\n",
       "Robert     4820129\n",
       "Michael    4362731\n",
       "William    4117369\n",
       "            ...   \n",
       "Chiante          5\n",
       "Lrey             5\n",
       "Lozell           5\n",
       "Loyall           5\n",
       "Carnes           5\n",
       "Name: Count, Length: 41475, dtype: int64"
      ]
     },
     "execution_count": 11,
     "metadata": {},
     "output_type": "execute_result"
    }
   ],
   "source": [
    "# now sort names by popularity\n",
    "s = counts.sort_values(ascending=False)\n",
    "s"
   ]
  },
  {
   "cell_type": "code",
   "execution_count": 12,
   "metadata": {},
   "outputs": [
    {
     "data": {
      "image/png": "[encoded data removed]",
      "text/plain": [
       "<Figure size 720x288 with 1 Axes>"
      ]
     },
     "metadata": {
      "needs_background": "light"
     },
     "output_type": "display_data"
    }
   ],
   "source": [
    "# and now finally plot, showing Terry relative to other names.\n",
    "ax = s[:100].plot(kind='line', figsize=(10,4))\n",
    "# find what number 'Terry' is in this sequence.\n",
    "ix = s.index.to_list().index('Terry')\n",
    "ax.axvline(ix,color='red')  # draw vertical line.\n",
    "plt.show()"
   ]
  },
  {
   "cell_type": "code",
   "execution_count": 13,
   "metadata": {},
   "outputs": [
    {
     "name": "stdout",
     "output_type": "stream",
     "text": [
      "Top 10 male names:\n",
      " ['James', 'John', 'Robert', 'Michael', 'William', 'David', 'Joseph', 'Richard', 'Charles', 'Thomas']\n"
     ]
    }
   ],
   "source": [
    "# since Terry is in the top 100 male names, and Karen is more popular than Terry, we're probably\n",
    "# safe considering only the top 100 male names.\n",
    "sorted_male_names = s[:100].index.to_list()\n",
    "print(\"Top 10 male names:\\n\", sorted_male_names[:10])"
   ]
  },
  {
   "cell_type": "code",
   "execution_count": 14,
   "metadata": {},
   "outputs": [
    {
     "data": {
      "text/html": [
       "<div>\n",
       "<style scoped>\n",
       "    .dataframe tbody tr th:only-of-type {\n",
       "        vertical-align: middle;\n",
       "    }\n",
       "\n",
       "    .dataframe tbody tr th {\n",
       "        vertical-align: top;\n",
       "    }\n",
       "\n",
       "    .dataframe thead th {\n",
       "        text-align: right;\n",
       "    }\n",
       "</style>\n",
       "<table border=\"1\" class=\"dataframe\">\n",
       "  <thead>\n",
       "    <tr style=\"text-align: right;\">\n",
       "      <th></th>\n",
       "      <th>Count</th>\n",
       "    </tr>\n",
       "    <tr>\n",
       "      <th>YOB</th>\n",
       "      <th></th>\n",
       "    </tr>\n",
       "  </thead>\n",
       "  <tbody>\n",
       "    <tr>\n",
       "      <th>1881</th>\n",
       "      <td>6</td>\n",
       "    </tr>\n",
       "    <tr>\n",
       "      <th>1885</th>\n",
       "      <td>10</td>\n",
       "    </tr>\n",
       "    <tr>\n",
       "      <th>1886</th>\n",
       "      <td>9</td>\n",
       "    </tr>\n",
       "    <tr>\n",
       "      <th>1887</th>\n",
       "      <td>9</td>\n",
       "    </tr>\n",
       "    <tr>\n",
       "      <th>1888</th>\n",
       "      <td>5</td>\n",
       "    </tr>\n",
       "    <tr>\n",
       "      <th>...</th>\n",
       "      <td>...</td>\n",
       "    </tr>\n",
       "    <tr>\n",
       "      <th>2014</th>\n",
       "      <td>631</td>\n",
       "    </tr>\n",
       "    <tr>\n",
       "      <th>2015</th>\n",
       "      <td>626</td>\n",
       "    </tr>\n",
       "    <tr>\n",
       "      <th>2016</th>\n",
       "      <td>615</td>\n",
       "    </tr>\n",
       "    <tr>\n",
       "      <th>2017</th>\n",
       "      <td>552</td>\n",
       "    </tr>\n",
       "    <tr>\n",
       "      <th>2018</th>\n",
       "      <td>468</td>\n",
       "    </tr>\n",
       "  </tbody>\n",
       "</table>\n",
       "<p>133 rows × 1 columns</p>\n",
       "</div>"
      ],
      "text/plain": [
       "      Count\n",
       "YOB        \n",
       "1881      6\n",
       "1885     10\n",
       "1886      9\n",
       "1887      9\n",
       "1888      5\n",
       "...     ...\n",
       "2014    631\n",
       "2015    626\n",
       "2016    615\n",
       "2017    552\n",
       "2018    468\n",
       "\n",
       "[133 rows x 1 columns]"
      ]
     },
     "execution_count": 14,
     "metadata": {},
     "output_type": "execute_result"
    }
   ],
   "source": [
    "# get karen raw counts profile.  we include YOB bc we can't assume karen exists for each year.\n",
    "# and we set YOB to be the index\n",
    "k = kdf[['YOB','Count']].set_index('YOB')  # [[]]: select columns\n",
    "k"
   ]
  },
  {
   "cell_type": "code",
   "execution_count": 15,
   "metadata": {},
   "outputs": [
    {
     "data": {
      "text/html": [
       "<div>\n",
       "<style scoped>\n",
       "    .dataframe tbody tr th:only-of-type {\n",
       "        vertical-align: middle;\n",
       "    }\n",
       "\n",
       "    .dataframe tbody tr th {\n",
       "        vertical-align: top;\n",
       "    }\n",
       "\n",
       "    .dataframe thead th {\n",
       "        text-align: right;\n",
       "    }\n",
       "</style>\n",
       "<table border=\"1\" class=\"dataframe\">\n",
       "  <thead>\n",
       "    <tr style=\"text-align: right;\">\n",
       "      <th></th>\n",
       "      <th>Count</th>\n",
       "    </tr>\n",
       "    <tr>\n",
       "      <th>YOB</th>\n",
       "      <th></th>\n",
       "    </tr>\n",
       "  </thead>\n",
       "  <tbody>\n",
       "    <tr>\n",
       "      <th>1880</th>\n",
       "      <td>0</td>\n",
       "    </tr>\n",
       "    <tr>\n",
       "      <th>1881</th>\n",
       "      <td>6</td>\n",
       "    </tr>\n",
       "    <tr>\n",
       "      <th>1882</th>\n",
       "      <td>0</td>\n",
       "    </tr>\n",
       "    <tr>\n",
       "      <th>1883</th>\n",
       "      <td>0</td>\n",
       "    </tr>\n",
       "    <tr>\n",
       "      <th>1884</th>\n",
       "      <td>0</td>\n",
       "    </tr>\n",
       "    <tr>\n",
       "      <th>...</th>\n",
       "      <td>...</td>\n",
       "    </tr>\n",
       "    <tr>\n",
       "      <th>2014</th>\n",
       "      <td>631</td>\n",
       "    </tr>\n",
       "    <tr>\n",
       "      <th>2015</th>\n",
       "      <td>626</td>\n",
       "    </tr>\n",
       "    <tr>\n",
       "      <th>2016</th>\n",
       "      <td>615</td>\n",
       "    </tr>\n",
       "    <tr>\n",
       "      <th>2017</th>\n",
       "      <td>552</td>\n",
       "    </tr>\n",
       "    <tr>\n",
       "      <th>2018</th>\n",
       "      <td>468</td>\n",
       "    </tr>\n",
       "  </tbody>\n",
       "</table>\n",
       "<p>139 rows × 1 columns</p>\n",
       "</div>"
      ],
      "text/plain": [
       "      Count\n",
       "YOB        \n",
       "1880      0\n",
       "1881      6\n",
       "1882      0\n",
       "1883      0\n",
       "1884      0\n",
       "...     ...\n",
       "2014    631\n",
       "2015    626\n",
       "2016    615\n",
       "2017    552\n",
       "2018    468\n",
       "\n",
       "[139 rows x 1 columns]"
      ]
     },
     "execution_count": 15,
     "metadata": {},
     "output_type": "execute_result"
    }
   ],
   "source": [
    "# some years could be missing - and in fact some are!  \n",
    "# so let's re-index, using the full set of years, and assign 0 for years that aren't in k.\n",
    "kk = k.reindex(range(1880,2018+1),fill_value=0)\n",
    "kk"
   ]
  },
  {
   "cell_type": "code",
   "execution_count": 16,
   "metadata": {},
   "outputs": [
    {
     "name": "stdout",
     "output_type": "stream",
     "text": [
      "Best aligned with Karen, by MSE, raw counts: Gary\n"
     ]
    }
   ],
   "source": [
    "# now cycle through male names, analogously filling in blank years for each of them.\n",
    "# and then find MSE of each to karen counts over time.\n",
    "d = dict()\n",
    "for name in sorted_male_names:\n",
    "    # YOUR CODE GOES HERE.  \n",
    "    # define mm by analogy with kk - it is a dataframe consisting of rows where Name is name, and \n",
    "    # sex is M, and we extract the YOB and Count columns only, and set the index to be YOB.\n",
    "    # and then, as with kk, we reindex to be sure we're covering all years, and fill in any \n",
    "    # blanks with 0.\n",
    "    ndf = df[(df.Name == name) & (df.Sex == 'M')].copy()\n",
    "    m = ndf[['YOB', 'Count']].set_index('YOB')\n",
    "    mm = m.reindex(range(1880, 2018 + 1), fill_value = 0)\n",
    "    \n",
    "    mse = mean_squared_error(kk.Count, mm.Count)\n",
    "    d[name] = mse\n",
    "best_aligned = min(d, key=d.get)\n",
    "print(\"Best aligned with Karen, by MSE, raw counts:\", best_aligned)"
   ]
  },
  {
   "cell_type": "code",
   "execution_count": 17,
   "metadata": {},
   "outputs": [
    {
     "data": {
      "image/png": "[encoded data removed]",
      "text/plain": [
       "<Figure size 720x288 with 1 Axes>"
      ]
     },
     "metadata": {
      "needs_background": "light"
     },
     "output_type": "display_data"
    }
   ],
   "source": [
    "# so how does mr. best_aligned look relative to Karen, considering just raw counts?\n",
    "ax = plt.gca()  # get current axis to share.\n",
    "gdf = df[(df.Name==best_aligned) & (df.Sex=='M')].copy()\n",
    "kdf.plot(kind='line',x='YOB',y='Count',label='Karen (F)', ax=ax, figsize=(10,4))\n",
    "gdf.plot(kind='line',x='YOB',y='Count',label=best_aligned+' (M)', ax=ax, figsize=(10,4))\n",
    "plt.show()"
   ]
  },
  {
   "cell_type": "code",
   "execution_count": 18,
   "metadata": {},
   "outputs": [
    {
     "name": "stdout",
     "output_type": "stream",
     "text": [
      "Best aligned with Karen, by MSE, scaled counts: Terry\n"
     ]
    }
   ],
   "source": [
    "# get karen scaled counts profile.  we include YOB bc we can't assume karen exists for each year.\n",
    "k = kdf[['YOB','ScaledCount']].set_index('YOB')\n",
    "kk = k.reindex(range(1880,2018+1),fill_value=0)\n",
    "\n",
    "# now cycle through male names, and find MSE of each to karen scaled counts over time.\n",
    "d = dict()\n",
    "for name in sorted_male_names:\n",
    "    # YOUR CODE GOES HERE.  \n",
    "    # define mm by analogy with kk - it is a dataframe consisting of rows where Name is name, and \n",
    "    # sex is M, and we extract the YOB and ScaledCount columns only, and set the index to be YOB.\n",
    "    # and then, as with kk, we reindex to be sure we're covering all years, and fill in any \n",
    "    # blanks with 0.\n",
    "    # note that although we have already defined ScaledCount for Karen, we haven't for most\n",
    "    # male names - so we'll have to do that here as well - because as you can see below, we\n",
    "    # will be using ScaledCount.\n",
    "    ndf = df[(df.Name == name) & (df.Sex == 'M')].copy()\n",
    "    n_peak = ndf.Count.max()\n",
    "    ndf['ScaledCount'] = ndf.Count / n_peak\n",
    "    m = ndf[['YOB', 'ScaledCount']].set_index('YOB')\n",
    "    mm = m.reindex(range(1880, 2018 + 1), fill_value = 0)\n",
    "    \n",
    "    mse = mean_squared_error(kk.ScaledCount, mm.ScaledCount)\n",
    "    d[name] = mse\n",
    "best_aligned = min(d, key=d.get)\n",
    "print(\"Best aligned with Karen, by MSE, scaled counts:\", best_aligned)"
   ]
  },
  {
   "cell_type": "markdown",
   "metadata": {},
   "source": [
    "### Concluding observations\n",
    "\n",
    "Say a few brief words here about what you can conclude from the analyses above.\n",
    "\n",
    "When comparing raw counts, Gary is best aligned with the female name Karen; but when comparing scaled counts, Terry is still best aligned with Karen."
   ]
  },
  {
   "cell_type": "code",
   "execution_count": null,
   "metadata": {},
   "outputs": [],
   "source": []
  }
 ],
 "metadata": {
  "kernelspec": {
   "display_name": "Python 3",
   "language": "python",
   "name": "python3"
  },
  "language_info": {
   "codemirror_mode": {
    "name": "ipython",
    "version": 3
   },
   "file_extension": ".py",
   "mimetype": "text/x-python",
   "name": "python",
   "nbconvert_exporter": "python",
   "pygments_lexer": "ipython3",
   "version": "3.8.5"
  }
 },
 "nbformat": 4,
 "nbformat_minor": 2
}
