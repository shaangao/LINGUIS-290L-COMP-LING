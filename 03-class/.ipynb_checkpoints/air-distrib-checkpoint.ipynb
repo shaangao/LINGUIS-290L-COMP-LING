{
 "cells": [
  {
   "cell_type": "markdown",
   "metadata": {},
   "source": [
    "# Pandas: an in-class exercise\n",
    "Sep. 9, 2020\n",
    "\n",
    "No phonemes this time.  Instead, we will be manipulating some non-linguistic data as a way to get you comfortable with Pandas.  In an acknowledgement of a fact of life that we have all had to deal with recently, we will be examining the AQI or **Air Quality Index** over the recent past in Alameda County, and also for comparison in Santa Cruz county.  The data we will be examining are from the [EPA](https://www.epa.gov/outdoor-air-quality-data/air-quality-index-daily-values-report).\n",
    "\n",
    "Then in this week's homework we will use the same Pandas techniques on a question that does concern language."
   ]
  },
  {
   "cell_type": "code",
   "execution_count": 1,
   "metadata": {},
   "outputs": [],
   "source": [
    "import pandas as pd\n",
    "import numpy as np\n",
    "import matplotlib.pyplot as plt\n",
    "import seaborn as sns"
   ]
  },
  {
   "cell_type": "code",
   "execution_count": 2,
   "metadata": {},
   "outputs": [
    {
     "data": {
      "text/html": [
       "<div>\n",
       "<style scoped>\n",
       "    .dataframe tbody tr th:only-of-type {\n",
       "        vertical-align: middle;\n",
       "    }\n",
       "\n",
       "    .dataframe tbody tr th {\n",
       "        vertical-align: top;\n",
       "    }\n",
       "\n",
       "    .dataframe thead th {\n",
       "        text-align: right;\n",
       "    }\n",
       "</style>\n",
       "<table border=\"1\" class=\"dataframe\">\n",
       "  <thead>\n",
       "    <tr style=\"text-align: right;\">\n",
       "      <th></th>\n",
       "      <th>Date</th>\n",
       "      <th>PM2.5 AQI Value</th>\n",
       "      <th>AQI Category</th>\n",
       "      <th>Site Name</th>\n",
       "      <th>Site ID</th>\n",
       "      <th>Source</th>\n",
       "    </tr>\n",
       "  </thead>\n",
       "  <tbody>\n",
       "    <tr>\n",
       "      <th>0</th>\n",
       "      <td>01/01/2020</td>\n",
       "      <td>53</td>\n",
       "      <td>Moderate</td>\n",
       "      <td>Oakland</td>\n",
       "      <td>06-001-0009</td>\n",
       "      <td>AQS</td>\n",
       "    </tr>\n",
       "    <tr>\n",
       "      <th>1</th>\n",
       "      <td>01/02/2020</td>\n",
       "      <td>43</td>\n",
       "      <td>Good</td>\n",
       "      <td>Berkeley Aquatic Park</td>\n",
       "      <td>06-001-0013</td>\n",
       "      <td>AQS</td>\n",
       "    </tr>\n",
       "    <tr>\n",
       "      <th>2</th>\n",
       "      <td>01/03/2020</td>\n",
       "      <td>74</td>\n",
       "      <td>Moderate</td>\n",
       "      <td>Berkeley Aquatic Park</td>\n",
       "      <td>06-001-0013</td>\n",
       "      <td>AQS</td>\n",
       "    </tr>\n",
       "    <tr>\n",
       "      <th>3</th>\n",
       "      <td>01/04/2020</td>\n",
       "      <td>45</td>\n",
       "      <td>Good</td>\n",
       "      <td>Livermore</td>\n",
       "      <td>06-001-0007</td>\n",
       "      <td>AQS</td>\n",
       "    </tr>\n",
       "    <tr>\n",
       "      <th>4</th>\n",
       "      <td>01/05/2020</td>\n",
       "      <td>33</td>\n",
       "      <td>Good</td>\n",
       "      <td>Livermore</td>\n",
       "      <td>06-001-0007</td>\n",
       "      <td>AQS</td>\n",
       "    </tr>\n",
       "    <tr>\n",
       "      <th>...</th>\n",
       "      <td>...</td>\n",
       "      <td>...</td>\n",
       "      <td>...</td>\n",
       "      <td>...</td>\n",
       "      <td>...</td>\n",
       "      <td>...</td>\n",
       "    </tr>\n",
       "    <tr>\n",
       "      <th>242</th>\n",
       "      <td>08/30/2020</td>\n",
       "      <td>67</td>\n",
       "      <td>Moderate</td>\n",
       "      <td>Livermore</td>\n",
       "      <td>06-001-0007</td>\n",
       "      <td>AirNow</td>\n",
       "    </tr>\n",
       "    <tr>\n",
       "      <th>243</th>\n",
       "      <td>08/31/2020</td>\n",
       "      <td>74</td>\n",
       "      <td>Moderate</td>\n",
       "      <td>Oakland</td>\n",
       "      <td>06-001-0009</td>\n",
       "      <td>AirNow</td>\n",
       "    </tr>\n",
       "    <tr>\n",
       "      <th>244</th>\n",
       "      <td>09/01/2020</td>\n",
       "      <td>70</td>\n",
       "      <td>Moderate</td>\n",
       "      <td>Pleasanton - Owens Ct</td>\n",
       "      <td>06-001-0015</td>\n",
       "      <td>AirNow</td>\n",
       "    </tr>\n",
       "    <tr>\n",
       "      <th>245</th>\n",
       "      <td>09/02/2020</td>\n",
       "      <td>62</td>\n",
       "      <td>Moderate</td>\n",
       "      <td>Pleasanton - Owens Ct</td>\n",
       "      <td>06-001-0015</td>\n",
       "      <td>AirNow</td>\n",
       "    </tr>\n",
       "    <tr>\n",
       "      <th>246</th>\n",
       "      <td>09/03/2020</td>\n",
       "      <td>95</td>\n",
       "      <td>Moderate</td>\n",
       "      <td>Berkeley Aquatic Park</td>\n",
       "      <td>06-001-0013</td>\n",
       "      <td>AirNow</td>\n",
       "    </tr>\n",
       "  </tbody>\n",
       "</table>\n",
       "<p>247 rows × 6 columns</p>\n",
       "</div>"
      ],
      "text/plain": [
       "           Date  PM2.5 AQI Value AQI Category              Site Name  \\\n",
       "0    01/01/2020               53     Moderate                Oakland   \n",
       "1    01/02/2020               43         Good  Berkeley Aquatic Park   \n",
       "2    01/03/2020               74     Moderate  Berkeley Aquatic Park   \n",
       "3    01/04/2020               45         Good              Livermore   \n",
       "4    01/05/2020               33         Good              Livermore   \n",
       "..          ...              ...          ...                    ...   \n",
       "242  08/30/2020               67     Moderate              Livermore   \n",
       "243  08/31/2020               74     Moderate                Oakland   \n",
       "244  09/01/2020               70     Moderate  Pleasanton - Owens Ct   \n",
       "245  09/02/2020               62     Moderate  Pleasanton - Owens Ct   \n",
       "246  09/03/2020               95     Moderate  Berkeley Aquatic Park   \n",
       "\n",
       "         Site ID  Source  \n",
       "0    06-001-0009     AQS  \n",
       "1    06-001-0013     AQS  \n",
       "2    06-001-0013     AQS  \n",
       "3    06-001-0007     AQS  \n",
       "4    06-001-0007     AQS  \n",
       "..           ...     ...  \n",
       "242  06-001-0007  AirNow  \n",
       "243  06-001-0009  AirNow  \n",
       "244  06-001-0015  AirNow  \n",
       "245  06-001-0015  AirNow  \n",
       "246  06-001-0013  AirNow  \n",
       "\n",
       "[247 rows x 6 columns]"
      ]
     },
     "execution_count": 2,
     "metadata": {},
     "output_type": "execute_result"
    }
   ],
   "source": [
    "# read in EPA PM 2.5 air-quality data from Alameda county.\n",
    "df = pd.read_csv(\"aqidaily2020-alameda.csv\")\n",
    "df"
   ]
  },
  {
   "cell_type": "code",
   "execution_count": 3,
   "metadata": {
    "scrolled": true
   },
   "outputs": [
    {
     "data": {
      "text/html": [
       "<div>\n",
       "<style scoped>\n",
       "    .dataframe tbody tr th:only-of-type {\n",
       "        vertical-align: middle;\n",
       "    }\n",
       "\n",
       "    .dataframe tbody tr th {\n",
       "        vertical-align: top;\n",
       "    }\n",
       "\n",
       "    .dataframe thead th {\n",
       "        text-align: right;\n",
       "    }\n",
       "</style>\n",
       "<table border=\"1\" class=\"dataframe\">\n",
       "  <thead>\n",
       "    <tr style=\"text-align: right;\">\n",
       "      <th></th>\n",
       "      <th>Date</th>\n",
       "      <th>AQI</th>\n",
       "      <th>Category</th>\n",
       "      <th>Site</th>\n",
       "      <th>Site ID</th>\n",
       "      <th>Source</th>\n",
       "    </tr>\n",
       "  </thead>\n",
       "  <tbody>\n",
       "    <tr>\n",
       "      <th>0</th>\n",
       "      <td>01/01/2020</td>\n",
       "      <td>53</td>\n",
       "      <td>Moderate</td>\n",
       "      <td>Oakland</td>\n",
       "      <td>06-001-0009</td>\n",
       "      <td>AQS</td>\n",
       "    </tr>\n",
       "    <tr>\n",
       "      <th>1</th>\n",
       "      <td>01/02/2020</td>\n",
       "      <td>43</td>\n",
       "      <td>Good</td>\n",
       "      <td>Berkeley Aquatic Park</td>\n",
       "      <td>06-001-0013</td>\n",
       "      <td>AQS</td>\n",
       "    </tr>\n",
       "    <tr>\n",
       "      <th>2</th>\n",
       "      <td>01/03/2020</td>\n",
       "      <td>74</td>\n",
       "      <td>Moderate</td>\n",
       "      <td>Berkeley Aquatic Park</td>\n",
       "      <td>06-001-0013</td>\n",
       "      <td>AQS</td>\n",
       "    </tr>\n",
       "    <tr>\n",
       "      <th>3</th>\n",
       "      <td>01/04/2020</td>\n",
       "      <td>45</td>\n",
       "      <td>Good</td>\n",
       "      <td>Livermore</td>\n",
       "      <td>06-001-0007</td>\n",
       "      <td>AQS</td>\n",
       "    </tr>\n",
       "    <tr>\n",
       "      <th>4</th>\n",
       "      <td>01/05/2020</td>\n",
       "      <td>33</td>\n",
       "      <td>Good</td>\n",
       "      <td>Livermore</td>\n",
       "      <td>06-001-0007</td>\n",
       "      <td>AQS</td>\n",
       "    </tr>\n",
       "    <tr>\n",
       "      <th>...</th>\n",
       "      <td>...</td>\n",
       "      <td>...</td>\n",
       "      <td>...</td>\n",
       "      <td>...</td>\n",
       "      <td>...</td>\n",
       "      <td>...</td>\n",
       "    </tr>\n",
       "    <tr>\n",
       "      <th>242</th>\n",
       "      <td>08/30/2020</td>\n",
       "      <td>67</td>\n",
       "      <td>Moderate</td>\n",
       "      <td>Livermore</td>\n",
       "      <td>06-001-0007</td>\n",
       "      <td>AirNow</td>\n",
       "    </tr>\n",
       "    <tr>\n",
       "      <th>243</th>\n",
       "      <td>08/31/2020</td>\n",
       "      <td>74</td>\n",
       "      <td>Moderate</td>\n",
       "      <td>Oakland</td>\n",
       "      <td>06-001-0009</td>\n",
       "      <td>AirNow</td>\n",
       "    </tr>\n",
       "    <tr>\n",
       "      <th>244</th>\n",
       "      <td>09/01/2020</td>\n",
       "      <td>70</td>\n",
       "      <td>Moderate</td>\n",
       "      <td>Pleasanton - Owens Ct</td>\n",
       "      <td>06-001-0015</td>\n",
       "      <td>AirNow</td>\n",
       "    </tr>\n",
       "    <tr>\n",
       "      <th>245</th>\n",
       "      <td>09/02/2020</td>\n",
       "      <td>62</td>\n",
       "      <td>Moderate</td>\n",
       "      <td>Pleasanton - Owens Ct</td>\n",
       "      <td>06-001-0015</td>\n",
       "      <td>AirNow</td>\n",
       "    </tr>\n",
       "    <tr>\n",
       "      <th>246</th>\n",
       "      <td>09/03/2020</td>\n",
       "      <td>95</td>\n",
       "      <td>Moderate</td>\n",
       "      <td>Berkeley Aquatic Park</td>\n",
       "      <td>06-001-0013</td>\n",
       "      <td>AirNow</td>\n",
       "    </tr>\n",
       "  </tbody>\n",
       "</table>\n",
       "<p>247 rows × 6 columns</p>\n",
       "</div>"
      ],
      "text/plain": [
       "           Date  AQI  Category                   Site      Site ID  Source\n",
       "0    01/01/2020   53  Moderate                Oakland  06-001-0009     AQS\n",
       "1    01/02/2020   43      Good  Berkeley Aquatic Park  06-001-0013     AQS\n",
       "2    01/03/2020   74  Moderate  Berkeley Aquatic Park  06-001-0013     AQS\n",
       "3    01/04/2020   45      Good              Livermore  06-001-0007     AQS\n",
       "4    01/05/2020   33      Good              Livermore  06-001-0007     AQS\n",
       "..          ...  ...       ...                    ...          ...     ...\n",
       "242  08/30/2020   67  Moderate              Livermore  06-001-0007  AirNow\n",
       "243  08/31/2020   74  Moderate                Oakland  06-001-0009  AirNow\n",
       "244  09/01/2020   70  Moderate  Pleasanton - Owens Ct  06-001-0015  AirNow\n",
       "245  09/02/2020   62  Moderate  Pleasanton - Owens Ct  06-001-0015  AirNow\n",
       "246  09/03/2020   95  Moderate  Berkeley Aquatic Park  06-001-0013  AirNow\n",
       "\n",
       "[247 rows x 6 columns]"
      ]
     },
     "execution_count": 3,
     "metadata": {},
     "output_type": "execute_result"
    }
   ],
   "source": [
    "# some of the column names are a bit long - so let's rename them.\n",
    "df = df.rename(columns={\"PM2.5 AQI Value\": \"AQI\", \"AQI Category\": \"Category\", \"Site Name\": \"Site\"})\n",
    "df"
   ]
  },
  {
   "cell_type": "code",
   "execution_count": 6,
   "metadata": {},
   "outputs": [
    {
     "data": {
      "text/plain": [
       "0      53\n",
       "1      43\n",
       "2      74\n",
       "3      45\n",
       "4      33\n",
       "       ..\n",
       "242    67\n",
       "243    74\n",
       "244    70\n",
       "245    62\n",
       "246    95\n",
       "Name: AQI, Length: 247, dtype: int64"
      ]
     },
     "execution_count": 6,
     "metadata": {},
     "output_type": "execute_result"
    }
   ],
   "source": [
    "# let's look at just the AQI column\n",
    "df.AQI"
   ]
  },
  {
   "cell_type": "code",
   "execution_count": 7,
   "metadata": {},
   "outputs": [
    {
     "data": {
      "text/plain": [
       "0      53\n",
       "1      43\n",
       "2      74\n",
       "3      45\n",
       "4      33\n",
       "       ..\n",
       "242    67\n",
       "243    74\n",
       "244    70\n",
       "245    62\n",
       "246    95\n",
       "Name: AQI, Length: 247, dtype: int64"
      ]
     },
     "execution_count": 7,
     "metadata": {},
     "output_type": "execute_result"
    }
   ],
   "source": [
    "# here's another way to get the same thing\n",
    "df['AQI']"
   ]
  },
  {
   "cell_type": "code",
   "execution_count": 8,
   "metadata": {},
   "outputs": [
    {
     "data": {
      "text/plain": [
       "0      Moderate\n",
       "1          Good\n",
       "2      Moderate\n",
       "3          Good\n",
       "4          Good\n",
       "         ...   \n",
       "242    Moderate\n",
       "243    Moderate\n",
       "244    Moderate\n",
       "245    Moderate\n",
       "246    Moderate\n",
       "Name: Category, Length: 247, dtype: object"
      ]
     },
     "execution_count": 8,
     "metadata": {},
     "output_type": "execute_result"
    }
   ],
   "source": [
    "# now let's look at just the Category column\n",
    "df.Category"
   ]
  },
  {
   "cell_type": "markdown",
   "metadata": {},
   "source": [
    "Now that we've read in the data, we'll start by plotting the data in various ways, to get a bird's eye view of things.  There are many plotting options, and we'll consider just a few.  For a more thorough treatment, see [this guide](https://pandas.pydata.org/docs/user_guide/visualization.html)."
   ]
  },
  {
   "cell_type": "code",
   "execution_count": 9,
   "metadata": {
    "scrolled": true
   },
   "outputs": [
    {
     "data": {
      "image/png": "[encoded data removed]",
      "text/plain": [
       "<Figure size 432x288 with 1 Axes>"
      ]
     },
     "metadata": {
      "needs_background": "light"
     },
     "output_type": "display_data"
    }
   ],
   "source": [
    "# simple numerical line plot for AQI\n",
    "df.plot(x=\"Date\", y=\"AQI\", kind='line')\n",
    "plt.show()"
   ]
  },
  {
   "cell_type": "code",
   "execution_count": 10,
   "metadata": {},
   "outputs": [
    {
     "data": {
      "image/png": "[encoded data removed]",
      "text/plain": [
       "<Figure size 864x216 with 1 Axes>"
      ]
     },
     "metadata": {
      "needs_background": "light"
     },
     "output_type": "display_data"
    }
   ],
   "source": [
    "# simple plot, elongated - figsize takes (width,height) as parameters.\n",
    "df.plot(x=\"Date\", y=\"AQI\", kind='line', figsize=(12,3))\n",
    "plt.show()"
   ]
  },
  {
   "cell_type": "code",
   "execution_count": 11,
   "metadata": {},
   "outputs": [
    {
     "data": {
      "text/html": [
       "<div>\n",
       "<style scoped>\n",
       "    .dataframe tbody tr th:only-of-type {\n",
       "        vertical-align: middle;\n",
       "    }\n",
       "\n",
       "    .dataframe tbody tr th {\n",
       "        vertical-align: top;\n",
       "    }\n",
       "\n",
       "    .dataframe thead th {\n",
       "        text-align: right;\n",
       "    }\n",
       "</style>\n",
       "<table border=\"1\" class=\"dataframe\">\n",
       "  <thead>\n",
       "    <tr style=\"text-align: right;\">\n",
       "      <th></th>\n",
       "      <th>Date</th>\n",
       "      <th>AQI</th>\n",
       "      <th>Category</th>\n",
       "      <th>Site</th>\n",
       "      <th>Site ID</th>\n",
       "      <th>Source</th>\n",
       "    </tr>\n",
       "  </thead>\n",
       "  <tbody>\n",
       "    <tr>\n",
       "      <th>228</th>\n",
       "      <td>08/16/2020</td>\n",
       "      <td>69</td>\n",
       "      <td>Moderate</td>\n",
       "      <td>Pleasanton - Owens Ct</td>\n",
       "      <td>06-001-0015</td>\n",
       "      <td>AirNow</td>\n",
       "    </tr>\n",
       "  </tbody>\n",
       "</table>\n",
       "</div>"
      ],
      "text/plain": [
       "           Date  AQI  Category                   Site      Site ID  Source\n",
       "228  08/16/2020   69  Moderate  Pleasanton - Owens Ct  06-001-0015  AirNow"
      ]
     },
     "execution_count": 11,
     "metadata": {},
     "output_type": "execute_result"
    }
   ],
   "source": [
    "# aug 16, 2020, or \"08/16/2020\", is when dry lightning struck and our AQI problems started.\n",
    "# we'd like to draw a red vertical line at that point in the graph, to mark that relevant point in time.\n",
    "# to do that, we need to know which index along the x-axis corresponds to \"08/16/2020\".\n",
    "# so we start by finding that sub-part of the df that corresponds to Date == '08/16/2020'.\n",
    "sub_df = df[df.Date=='08/16/2020']\n",
    "sub_df"
   ]
  },
  {
   "cell_type": "code",
   "execution_count": 12,
   "metadata": {},
   "outputs": [
    {
     "data": {
      "text/html": [
       "<div>\n",
       "<style scoped>\n",
       "    .dataframe tbody tr th:only-of-type {\n",
       "        vertical-align: middle;\n",
       "    }\n",
       "\n",
       "    .dataframe tbody tr th {\n",
       "        vertical-align: top;\n",
       "    }\n",
       "\n",
       "    .dataframe thead th {\n",
       "        text-align: right;\n",
       "    }\n",
       "</style>\n",
       "<table border=\"1\" class=\"dataframe\">\n",
       "  <thead>\n",
       "    <tr style=\"text-align: right;\">\n",
       "      <th></th>\n",
       "      <th>Date</th>\n",
       "      <th>AQI</th>\n",
       "      <th>Category</th>\n",
       "      <th>Site</th>\n",
       "      <th>Site ID</th>\n",
       "      <th>Source</th>\n",
       "    </tr>\n",
       "  </thead>\n",
       "  <tbody>\n",
       "    <tr>\n",
       "      <th>231</th>\n",
       "      <td>08/19/2020</td>\n",
       "      <td>162</td>\n",
       "      <td>Unhealthy</td>\n",
       "      <td>Pleasanton - Owens Ct</td>\n",
       "      <td>06-001-0015</td>\n",
       "      <td>AirNow</td>\n",
       "    </tr>\n",
       "    <tr>\n",
       "      <th>232</th>\n",
       "      <td>08/20/2020</td>\n",
       "      <td>155</td>\n",
       "      <td>Unhealthy</td>\n",
       "      <td>Livermore</td>\n",
       "      <td>06-001-0007</td>\n",
       "      <td>AirNow</td>\n",
       "    </tr>\n",
       "    <tr>\n",
       "      <th>235</th>\n",
       "      <td>08/23/2020</td>\n",
       "      <td>174</td>\n",
       "      <td>Unhealthy</td>\n",
       "      <td>Livermore</td>\n",
       "      <td>06-001-0007</td>\n",
       "      <td>AirNow</td>\n",
       "    </tr>\n",
       "    <tr>\n",
       "      <th>236</th>\n",
       "      <td>08/24/2020</td>\n",
       "      <td>156</td>\n",
       "      <td>Unhealthy</td>\n",
       "      <td>Pleasanton - Owens Ct</td>\n",
       "      <td>06-001-0015</td>\n",
       "      <td>AirNow</td>\n",
       "    </tr>\n",
       "  </tbody>\n",
       "</table>\n",
       "</div>"
      ],
      "text/plain": [
       "           Date  AQI   Category                   Site      Site ID  Source\n",
       "231  08/19/2020  162  Unhealthy  Pleasanton - Owens Ct  06-001-0015  AirNow\n",
       "232  08/20/2020  155  Unhealthy              Livermore  06-001-0007  AirNow\n",
       "235  08/23/2020  174  Unhealthy              Livermore  06-001-0007  AirNow\n",
       "236  08/24/2020  156  Unhealthy  Pleasanton - Owens Ct  06-001-0015  AirNow"
      ]
     },
     "execution_count": 12,
     "metadata": {},
     "output_type": "execute_result"
    }
   ],
   "source": [
    "# this ability to select df rows by value is *really* useful - you can also use it for categorical data.\n",
    "df[df.Category=='Unhealthy']"
   ]
  },
  {
   "cell_type": "code",
   "execution_count": null,
   "metadata": {},
   "outputs": [],
   "source": [
    "# but we're not interested in categories right now - we're interested in our target date, so:\n",
    "sub_df = df[df.Date=='08/16/2020']\n",
    "\n",
    "# and now we grab the indices for this sub-df.\n",
    "indices = sub_df.index\n",
    "indices"
   ]
  },
  {
   "cell_type": "code",
   "execution_count": null,
   "metadata": {},
   "outputs": [],
   "source": [
    "# this is a list-like object, because there could have been multiple rows matching that date.\n",
    "# here we only have one index, so we have to extract it from the list, and it's the first one.\n",
    "ix = indices[0]\n",
    "ix"
   ]
  },
  {
   "cell_type": "code",
   "execution_count": null,
   "metadata": {},
   "outputs": [],
   "source": [
    "# Pulling all that index-finding stuff together, we have the following to get our August 16 2020 index.\n",
    "ix = df[df.Date=='08/16/2020'].index[0]\n",
    "ix"
   ]
  },
  {
   "cell_type": "code",
   "execution_count": null,
   "metadata": {
    "scrolled": true
   },
   "outputs": [],
   "source": [
    "# simple plot, elongated, with a marker for Aug 16, 2020.\n",
    "# find the df index that corresponds to Date == '08/16/2020'.\n",
    "ix = df[df.Date=='08/16/2020'].index[0]\n",
    "ax = df.plot(x=\"Date\", y=\"AQI\", kind='line', figsize=(12,3))\n",
    "# plot a vertical line at our target date.\n",
    "ax.axvline(ix,color='red')  # draw vertical line at selected date.\n",
    "plt.show()"
   ]
  },
  {
   "cell_type": "code",
   "execution_count": null,
   "metadata": {
    "scrolled": true
   },
   "outputs": [],
   "source": [
    "# show alameda county data, color-coded for AQI category.\n",
    "plt.figure(figsize=(12,3))\n",
    "# get certain dates for labeling x-axis - don't show all xticks to avoid crowding\n",
    "ddf = df.Date[df.index % 30 == 0]  # Selects every 30th row starting from 0\n",
    "new_xticks = ddf.index\n",
    "new_xtick_labels = ddf.values\n",
    "# plot the adjusted xticks\n",
    "plt.xticks(new_xticks,new_xtick_labels)\n",
    "# find the df index that corresponds to Date == '08/16/2020'.\n",
    "ix = df[df.Date=='08/16/2020'].index.tolist()[0]\n",
    "# plot a vertical line at date 8/16/2020.\n",
    "plt.axvline(ix,color='red')  # draw vertical line at selected date.\n",
    "# plot the data - note, this uses seaborn, not matplotlib.\n",
    "ax = sns.scatterplot(x=\"Date\", y=\"AQI\", hue='Category', data=df)\n",
    "# tight layout, i.e. nix margin padding\n",
    "plt.tight_layout()\n",
    "plt.savefig(\"AQI.pdf\")\n",
    "plt.show()"
   ]
  },
  {
   "cell_type": "code",
   "execution_count": null,
   "metadata": {},
   "outputs": [],
   "source": [
    "# this is all fine as far as it goes, but it's only about alameda county.\n",
    "# what we'd like to do is put data from both alameda and santa cruz counties in a single df.\n",
    "# but how will we tell them apart?  \n",
    "# by adding a new column, specifying for each row in the df which county it's from.\n",
    "df['County']='Alameda'  # all rows take the same value, \"Alameda\"\n",
    "df"
   ]
  },
  {
   "cell_type": "code",
   "execution_count": null,
   "metadata": {
    "scrolled": true
   },
   "outputs": [],
   "source": [
    "# now let's analogously read in data from santa cruz county, into a different df, sc_df.\n",
    "# and we'll rename columns as we did before.\n",
    "sc_df = pd.read_csv(\"aqidaily2020-santa-cruz.csv\")\n",
    "sc_df = sc_df.rename(columns={\"PM2.5 AQI Value\": \"AQI\", \"AQI Category\": \"Category\", \"Site Name\": \"Site\"})\n",
    "\n",
    "# and now let's add the County column again, specifying santa cruz this time.\n",
    "sc_df['County']='Santa Cruz'\n",
    "sc_df"
   ]
  },
  {
   "cell_type": "code",
   "execution_count": null,
   "metadata": {},
   "outputs": [],
   "source": [
    "# at this point we have two separate dfs for the two counties.\n",
    "# let's see how many lines are in each.\n",
    "print(\"Alameda has\",len(df),\"entries and Santa Cruz has\",len(sc_df),\"entries.\")\n",
    "print(\"Which comes to\",len(df)+len(sc_df),\"entries total.\")"
   ]
  },
  {
   "cell_type": "code",
   "execution_count": null,
   "metadata": {
    "scrolled": true
   },
   "outputs": [],
   "source": [
    "# now let's append the two dfs together into one.\n",
    "# this next line appends sc_df to df, and assigns the resulting dataframe to the variable df.\n",
    "# we ignore_index because the indices are not meaningful, and we want the rows renumbered 0,1,... n-1.\n",
    "df = df.append(sc_df,ignore_index=True)\n",
    "df"
   ]
  },
  {
   "cell_type": "code",
   "execution_count": null,
   "metadata": {},
   "outputs": [],
   "source": [
    "# now print AQI for both counties together, so we can compare.\n",
    "ax = plt.gca()  # get current axes for the two plots to share.\n",
    "# now plot the 2 sub-dfs, one per county, using the same axes.\n",
    "df[df.County=='Alameda'].plot(kind='line', x='Date', y='AQI', label='Alameda', figsize=(12,3), ax=ax)\n",
    "df[df.County=='Santa Cruz'].plot(kind='line', x='Date', y='AQI', label='Santa Cruz', ax=ax)\n",
    "# mark our target date, as usual\n",
    "ix = df[df.Date=='08/16/2020'].index[0]\n",
    "ax.axvline(ix,color='purple')  # draw vertical line at selected date.\n",
    "plt.show()"
   ]
  },
  {
   "cell_type": "markdown",
   "metadata": {},
   "source": [
    "It's useful to start by plotting your data, sometimes a few different ways, to get a global view of things.  Now that we've done that, we can make a few qualitative observations, for us to follow up on:\n",
    "- Both Alameda and Santa Cruz counties showed a large increase in AQI after Aug. 16.\n",
    "- After Aug. 16, Santa Cruz had higher AQI than Alameda.\n",
    "- Before Aug. 16, it looks as if Santa Cruz may have sometimes had slightly **lower** AQI than Alameda.\n",
    "\n",
    "Let's get quantitative about these ideas."
   ]
  },
  {
   "cell_type": "code",
   "execution_count": null,
   "metadata": {},
   "outputs": [],
   "source": [
    "# before taking things apart, let's look at overall descriptive stats for AQI.\n",
    "df.AQI.describe()"
   ]
  },
  {
   "cell_type": "code",
   "execution_count": null,
   "metadata": {},
   "outputs": [],
   "source": [
    "# separate out sub-dfs from before and after our target date. \n",
    "target_date = '08/16/2020'\n",
    "before = df[df.Date < target_date]\n",
    "after = df[df.Date > target_date]\n",
    "# print out some basic stats on AQI in those two ranges.\n",
    "print (\"Minimum AQI before\", target_date,\"was\",before.AQI.min())\n",
    "print (\"Minimum AQI after\", target_date,\"was\",after.AQI.min())\n",
    "print (\"Average AQI before\", target_date,\"was\",before.AQI.mean())\n",
    "print (\"Average AQI after\", target_date,\"was\",after.AQI.mean())\n",
    "print (\"Maximum AQI before\", target_date,\"was\",before.AQI.max())\n",
    "print (\"Maximum AQI after\", target_date,\"was\",after.AQI.max())"
   ]
  },
  {
   "cell_type": "code",
   "execution_count": null,
   "metadata": {},
   "outputs": [],
   "source": [
    "# now compare alameda to santa cruz AQI post-target-date.\n",
    "a = after[after.County=='Alameda'].AQI\n",
    "sc = after[after.County=='Santa Cruz'].AQI\n",
    "print(\"Average post-target-date AQI in Alameda county is\", a.mean())\n",
    "print(\"Average post-target-date AQI in Santa Cruz county is\", sc.mean())"
   ]
  },
  {
   "cell_type": "code",
   "execution_count": null,
   "metadata": {},
   "outputs": [],
   "source": [
    "# now a less clear-cut outcome: compare alameda to santa cruz AQI before the target-date.\n",
    "a = before[before.County=='Alameda'].AQI\n",
    "sc = before[before.County=='Santa Cruz'].AQI\n",
    "print(\"Average pre-target-date AQI in Alameda county is\", a.mean())\n",
    "print(\"Average pre-target-date AQI in Santa Cruz county is\", sc.mean())"
   ]
  },
  {
   "cell_type": "code",
   "execution_count": null,
   "metadata": {},
   "outputs": [],
   "source": [
    "# that difference is not so obvious from the plots above, so let's zoom in for a closer look.\n",
    "# we now restrict attention to dates before the target date.\n",
    "ax = plt.gca()  # get current axes for the two plots to share.\n",
    "# plot the 2 sub-dfs, one per county, using the same axes.\n",
    "before[before.County=='Alameda'].plot(kind='line', x='Date', y='AQI', label='Alameda', figsize=(12,3), ax=ax)\n",
    "before[before.County=='Santa Cruz'].plot(kind='line', x='Date', y='AQI', label='Santa Cruz', ax=ax)\n",
    "plt.show()"
   ]
  },
  {
   "cell_type": "code",
   "execution_count": null,
   "metadata": {},
   "outputs": [],
   "source": [
    "# the higher AQI for alameda county is now more visually apparent.\n",
    "# let's consider a difference score, just to make sure.\n",
    "# we are setting index to be Date so the 2 dfs are compatible.\n",
    "a = before[before.County=='Alameda'][['Date','AQI']].set_index('Date',drop=False)\n",
    "sc = before[before.County=='Santa Cruz'][['Date','AQI']].set_index('Date',drop=False)\n",
    "d = a\n",
    "d['Diff'] = a.AQI-sc.AQI\n",
    "d.plot(kind='line', x='Date', y='Diff', label='Difference score', figsize=(12,3))\n",
    "plt.axhline(0,color='red')\n",
    "plt.show()"
   ]
  },
  {
   "cell_type": "code",
   "execution_count": null,
   "metadata": {},
   "outputs": [],
   "source": [
    "# now let's wrap up by looking at AQI *category counts*, by county, before the target date.\n",
    "before"
   ]
  },
  {
   "cell_type": "markdown",
   "metadata": {},
   "source": [
    "We will be using [groupby](https://pandas.pydata.org/pandas-docs/stable/reference/api/pandas.DataFrame.groupby.html), which is a convenient means of splitting up a df in different ways.\n",
    "See also [this groupby tutorial](https://www.tutorialspoint.com/python_pandas/python_pandas_groupby.htm)"
   ]
  },
  {
   "cell_type": "code",
   "execution_count": null,
   "metadata": {},
   "outputs": [],
   "source": [
    "# create a groupby object that splits the df up by County.\n",
    "print(before.groupby('County'))"
   ]
  },
  {
   "cell_type": "code",
   "execution_count": null,
   "metadata": {},
   "outputs": [],
   "source": [
    "# that wasn't so easy to decipher.  so let's print out its subparts.\n",
    "grouped = before.groupby('County')\n",
    "for key, item in grouped:\n",
    "    g = grouped.get_group(key)\n",
    "    print(key, \"\\n\", g, \"\\n\", type(g), \"\\n\\n\")"
   ]
  },
  {
   "cell_type": "code",
   "execution_count": null,
   "metadata": {},
   "outputs": [],
   "source": [
    "# now pull out just the Category column\n",
    "print(before.groupby('County').Category)\n",
    "grouped = before.groupby('County').Category\n",
    "for key, item in grouped:\n",
    "    g = grouped.get_group(key)\n",
    "    print(key, \"\\n\", g, \"\\n\", type(g), \"\\n\\n\")"
   ]
  },
  {
   "cell_type": "code",
   "execution_count": null,
   "metadata": {},
   "outputs": [],
   "source": [
    "# now *count* the number of occurrences of each value of Category - still grouped by County.\n",
    "print(before.groupby('County').Category.value_counts())"
   ]
  },
  {
   "cell_type": "code",
   "execution_count": null,
   "metadata": {},
   "outputs": [],
   "source": [
    "# and now plot.  unstack(0) is needed to get the data in the right format.  look it up!\n",
    "# barh = bar plot, horizontal layout.\n",
    "before.groupby('County').Category.value_counts().unstack(0).plot.barh()\n",
    "plt.show()"
   ]
  }
 ],
 "metadata": {
  "kernelspec": {
   "display_name": "Python 3",
   "language": "python",
   "name": "python3"
  },
  "language_info": {
   "codemirror_mode": {
    "name": "ipython",
    "version": 3
   },
   "file_extension": ".py",
   "mimetype": "text/x-python",
   "name": "python",
   "nbconvert_exporter": "python",
   "pygments_lexer": "ipython3",
   "version": "3.8.5"
  }
 },
 "nbformat": 4,
 "nbformat_minor": 2
}
