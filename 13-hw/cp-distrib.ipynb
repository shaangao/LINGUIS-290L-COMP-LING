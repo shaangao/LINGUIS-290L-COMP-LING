{
 "cells": [
  {
   "cell_type": "markdown",
   "metadata": {},
   "source": [
    "# Categorical perception as optimal statistical inference\n",
    "\n",
    "It is known that categories can affect the perception of stimuli.  A specific type of categorical perception is the so-called perceptual magnet effect in vowel perception, in which discriminability between vowels is reduced near vowel prototypes.  Feldman et al. 2009 argued that this effect is a natural consequence of \"optimally solving the statistical problem of perception in noise\" (p. 752).  They presented a Bayesian model that embodies that idea, and showed that it accounts for data from a vowel discrimination experiment by Iverson and Kuhl (1995).  \n",
    "\n",
    "In this homework, you will replicate their findings.\n",
    "\n",
    "Many thanks to [Naomi Feldman](http://users.umiacs.umd.edu/~nhf/) for sharing her Matlab code and data.  And many thanks to [Geoff Bacon](https://geoffbacon.github.io/) for using that as a basis for writing the first draft of this notebook."
   ]
  },
  {
   "cell_type": "code",
   "execution_count": 1,
   "metadata": {},
   "outputs": [],
   "source": [
    "import math\n",
    "import matplotlib.pyplot as plt\n",
    "import scipy.stats\n",
    "import numpy as np\n",
    "from sklearn.linear_model import LinearRegression\n",
    "from scipy.optimize import minimize\n",
    "from sklearn.metrics import mean_squared_error"
   ]
  },
  {
   "cell_type": "markdown",
   "metadata": {},
   "source": [
    "### Data\n",
    "\n",
    "First hard-code the Iverson and Kuhl data, and then plot it so we have a clean picture of what model output should look like.  \n",
    "\n",
    "As Feldman et al. report (p. 759):\n",
    "\n",
    "> Iverson and Kuhl’s (1995) multidimensional scaling experiment was conducted with thirteen vowel stimuli along a single continuum in $F_1–F_2$ space ranging from /i/ to /e/ [...] The stimuli were designed to be equally spaced when measured along the mel scale, which equates distances on the basis of difference limens (S. S. Stevens et al., 1937). Subjects performed an AX discrimination task in which they pressed and held a button to begin a trial, releasing the button as quickly as possible if they believed the two stimuli to be different or holding the button for the remainder of the trial (2000 ms) if they heard no difference between the two stimuli. Subjects heard 156 “different” trials, consisting of all possible ordered pairs of nonidentical stimuli, and 52 “same” trials, four of each of the 13 stimuli.\n",
    "\n",
    "\n",
    "Iverson and Kuhl analyzed reaction time rather than accuracy, and used it to create a dissimilarity matrix, which they provided as input to a multi-dimensional scaling (MDS) analysis.  They asked for the data to be arranged by MDS along a single perceptual dimension, since the input was along a single continuum.  The stimuli along that continuum are numbered from 1 to 13, with a prototypical /i/ located halfway between stimuli 2 and 3, and a prototypical /e/ located just to the left of stimulus 13 &mdash; thus, the prototypes for the two categories are near the two extremes of the continuum, and the category boundary is near the middle.  Iverson and Kuhl's data show that the relative perceptual distance between neighboring stimuli tends to be low near the prototypes at the two extremes of the continuum, and higher near the category boundary toward the middle of the continuum.  This is the perceptual magnet effect: reduced discriminability near vowel prototypes.  Of course another way of viewing the same phenomonen is: enhanced discriminability away from prototypes and near boundaries."
   ]
  },
  {
   "cell_type": "code",
   "execution_count": 2,
   "metadata": {},
   "outputs": [
    {
     "data": {
      "text/plain": [
       "{(1, 2): 0.5,\n",
       " (2, 3): 0.69,\n",
       " (3, 4): 0.56,\n",
       " (4, 5): 0.88,\n",
       " (5, 6): 1.18,\n",
       " (6, 7): 1.46,\n",
       " (7, 8): 1.75,\n",
       " (8, 9): 1.53,\n",
       " (9, 10): 1.25,\n",
       " (10, 11): 1.07,\n",
       " (11, 12): 0.88,\n",
       " (12, 13): 0.83}"
      ]
     },
     "execution_count": 2,
     "metadata": {},
     "output_type": "execute_result"
    }
   ],
   "source": [
    "# first copy the list containing the data from naomi's matlab code, \n",
    "# then convert to a dict indexed by stimulus pair.\n",
    "# we index by stimulus pair because the values here are relative perceptual distance between\n",
    "# neighboring stimuli.\n",
    "data_list = [.5, .69, .56, .88, 1.18, 1.46, 1.75, 1.53, 1.25, 1.07, .88, .83]\n",
    "data = {(i,i+1):data_list[i-1] for i in range(1,12+1)}  # YOUR CODE GOES HERE.\n",
    "data"
   ]
  },
  {
   "cell_type": "code",
   "execution_count": 3,
   "metadata": {},
   "outputs": [
    {
     "data": {
      "image/png": "[encoded data removed]",
      "text/plain": [
       "<Figure size 432x288 with 1 Axes>"
      ]
     },
     "metadata": {
      "needs_background": "light"
     },
     "output_type": "display_data"
    }
   ],
   "source": [
    "# now plot the iverson & kuhl data, following F et al.\n",
    "xt = [i+1 for i in range(len(data)+1)]   # x tick mark posns, at stimulus numbers\n",
    "x = [(i+j)/2 for (i,j) in data.keys()]  # actual x values to plot, *between* stimulus numbers\n",
    "y = list(data.values())\n",
    "plt.plot(x,y, 'bo-')  # blue, circle marker, solid line\n",
    "plt.xticks(xt,xt)\n",
    "plt.yticks([0,2])\n",
    "plt.ylim(0,2)\n",
    "plt.legend(['Data'])\n",
    "plt.show()"
   ]
  },
  {
   "cell_type": "markdown",
   "metadata": {},
   "source": [
    "### Model\n",
    "\n",
    "The main variables of the model are:\n",
    "- $c$: category\n",
    "- $T$: target sound, as intended by speaker\n",
    "- $S$: stimulus, as actually received by listener\n",
    "\n",
    "The global structure of the model is:\n",
    "\n",
    "> $c \\rightarrow T \\rightarrow S$\n",
    "\n",
    "That is, the speaker has a category $c$ in mind, which defines a distribution over sounds.  The speaker then produces a specific target sound $T$ that is drawn from that distribution.  The listener does not perceive $T$ directly &mdash; instead the listener perceives a stimulus $S$ that is the result of perceiving $T$ in the presence of noise.  The listener then reconstructs what s/he thinks $T$ must have been, given knowledge of $S$ and $c$.\n",
    "\n",
    "We assume a two-category model, because our data have two categories (/i/ and /e/).  In this case, the listener reconstruction of $T$ is given by equation 11 of Feldman et al.:\n",
    "\n",
    "\\begin{align}\n",
    "E[T|S] = \\frac{\\sigma^2_c}{\\sigma^2_c + \\sigma^2_S}S + \\frac{\\sigma^2_S}{\\sigma^2_c + \\sigma^2_S}\\sum_c p(c|S) \\mu_c.\n",
    "\\end{align}\n",
    "\n",
    "where:\n",
    "- $c$ ranges over the two categories;\n",
    "- Each category is represented as a Gaussian (normal) distribution with mean (prototype) $\\mu_c$ and variance $\\sigma^2_c$;\n",
    "- We assume the categories have different means $\\mu_c$ but the same variance $\\sigma^2_c$;\n",
    "- The received stimulus $S$ is also represented as a Gaussian, with variance $\\sigma^2_S$;\n",
    "- $p(c|S)$ is defined below, and represents the probability that stimulus $S$ will be categorized as $c$ rather than some other category.\n",
    "\n",
    "Feldman et al. (p. 759) point out that the above formula for $E[T|S]$ is:\n",
    "> a weighted average of the stimulus $S$ [first term] and the means $\\mu_c$ of all the categories that might have produced $S$ [second term].\n",
    "\n",
    "There are two qualitative points to highlight in this regard.\n",
    "\n",
    "1. This average is weighted by **certainty**.  The fractions that specify the weights for the two terms have the same denominator and differ only in the numerator: thus, the stimulus $S$ is weighted proportionally to the category variance $\\sigma^2_c$, and the category means $\\mu_c$ are weighted proportionally to the variance of the stimulus, $\\sigma^2_S$.  We can assume that $\\sigma^2_c$ is fixed, since the categories are presumed to be static.  This means that the relative weighting of the two terms can be affected only by $\\sigma^2_S$, the variance of the stimulus.  The greater this variance, i.e. the more uncertain the listener is of the actual value of $S$, the more weight is given to the categories and the less to the stimulus.  Conversely, when the listener is quite certain of the stimulus $S$, $\\sigma^2_S$ will be small, and little weight will be given to the category and more to the stimulus itself.  In effect, this formula assigns more weight to the stimulus when the listener is relatively certain of the stimulus &mdash; it is in that sense that the average is weighted by certainty.\n",
    "2. The category term in this equation (the second term) is itself a weighted average, over categories.  As Feldman et al. point out (p. 759):\n",
    ">When perceivers are certain of a stimulus’s category, [i.e. when $p(c|S)$ is 1 for a particular category $c$, and 0 for the other category] perception of a stimulus $S$ is biased toward the mean of its category. However, when a stimulus is on a border between two categories, the optimal guess at the target is influenced by both category means, and each category weakens the other's effect [because they pull in opposite directions, essentially canceling each other out]. Shrinkage of perceptual space is thus strongest in areas of unambiguous categorization &mdash; the centers of categories &mdash; and weakest at category boundaries.\n",
    "\n",
    "The final element that needs exposition is $p(c|S)$, the probability that stimulus $S$ will be categorized as $c$ rather than some other category.  Following the assumptions of Feldman et al. (namely that there are two categories with equal variance), this takes the form of a logistic function (equation 12, p. 762):\n",
    "\\begin{align}\n",
    "p(c_1|S) = \\frac{1}{1+\\exp(-gS+b)}\n",
    "\\end{align}\n",
    "where \n",
    "\\begin{align}\n",
    "g = \\frac{\\mu_1 - \\mu_2}{\\sigma^2_c + \\sigma^2_S}\n",
    "\\end{align}\n",
    "and\n",
    "\\begin{align}\n",
    "b = \\frac{\\mu_1^2 - \\mu_2^2}{2 (\\sigma^2_c + \\sigma^2_S)}.\n",
    "\\end{align}\n",
    "$p(c_2|S)$ is then simply $1 - p(c_1|S)$."
   ]
  },
  {
   "cell_type": "code",
   "execution_count": 4,
   "metadata": {},
   "outputs": [],
   "source": [
    "# defining global variables holding the values of various parameters.\n",
    "# obtained from feldman et al., pp. 759-761.\n",
    "\n",
    "# define stimulus numbers.\n",
    "stims = list(range(1,13+1))  # numbers 1-13 inclusive\n",
    "\n",
    "# define categories and their means.\n",
    "cats = ['/i/', '/e/']  # categories\n",
    "mu = {'/i/': 2.5, '/e/': 12.8}  # category means\n",
    "\n",
    "# variances.\n",
    "# sigma_c_2 is the category variance, which is shared, i.e. same variance for each of the two categories.\n",
    "# sigma_s_2 is the stimulus variance, capturing listener's uncertainty about the stimulus.\n",
    "# F et al. rather confusingly report these values in mel or mel^2 without specifying how many mel\n",
    "# each unit on our stimulus spectrum corresponds to - turns out the answer is 30, see lotto et al., \n",
    "# p. 3650.  so the values i am using here are adjusted accordingly from those reported in F et al.\n",
    "# i am hard-coding these in for now, but later fit to data, poss under the constraint that:\n",
    "# sigma_c_2 + sigma_s_2 = 11.575555555.\n",
    "sigma_c_2 = 6.587777779\n",
    "sigma_s_2 = 4.987777776\n",
    "summed_sigma_2 = sigma_c_2 + sigma_s_2"
   ]
  },
  {
   "cell_type": "code",
   "execution_count": 5,
   "metadata": {},
   "outputs": [],
   "source": [
    "# pcs stands for p(c|S), the probability that stimulus S is categorized as c.\n",
    "# this function implements equation 12 on page 762 of feldman et al., for both categories c.\n",
    "def pcs(s,mu,sigma_c_2,sigma_s_2):\n",
    "    \"\"\"\n",
    "    receives as input:\n",
    "    s, a stimulus number\n",
    "    mu, the means of the categories\n",
    "    sigma_c_2, the category variance\n",
    "    sigma_s_2, the stimulus variance\n",
    "    returns: a dict holding, for each category c, p(c|s), \n",
    "    i.e. the probability that s would be categorized as c.\n",
    "    \"\"\"\n",
    "\n",
    "    # YOUR CODE GOES HERE.\n",
    "    mu1 = mu['/i/']\n",
    "    mu2 = mu['/e/']\n",
    "    g = (mu1 - mu2) / (sigma_c_2 + sigma_s_2)\n",
    "    b = (mu1**2 - mu2**2) / (2*(sigma_c_2 + sigma_s_2))\n",
    "\n",
    "    p = {}  # return results in this dict\n",
    "    p['/i/'] = 1 / (1 + np.exp(-g * s + b))  # REPLACE - YOUR CODE GOES HERE.\n",
    "    p['/e/'] = 1 - p['/i/']  # REPLACE - YOUR CODE GOES HERE.\n",
    "    return(p)"
   ]
  },
  {
   "cell_type": "code",
   "execution_count": 6,
   "metadata": {},
   "outputs": [
    {
     "data": {
      "image/png": "[encoded data removed]",
      "text/plain": [
       "<Figure size 576x288 with 1 Axes>"
      ]
     },
     "metadata": {
      "needs_background": "light"
     },
     "output_type": "display_data"
    }
   ],
   "source": [
    "# sanity-check: compute and plot p(c|S) for both cats, for all stimuli.\n",
    "# should look like fig 4 of F et al.\n",
    "p_i = []\n",
    "p_e = []\n",
    "for s in stims:\n",
    "    p = pcs(s,mu,sigma_c_2,sigma_s_2)\n",
    "    p_i.append(p['/i/'])\n",
    "    p_e.append(p['/e/'])\n",
    "plt.figure(figsize=(8,4))\n",
    "plt.plot(stims,p_i, 'o-', label='/i/')\n",
    "plt.plot(stims,p_e, 'o-', label='/e/')\n",
    "plt.legend()\n",
    "plt.xticks(stims)\n",
    "plt.ylim(0,1)\n",
    "plt.axvline(mu['/i/'], color='r')\n",
    "plt.axvline(mu['/e/'], color='r')\n",
    "plt.show()"
   ]
  },
  {
   "cell_type": "code",
   "execution_count": 7,
   "metadata": {},
   "outputs": [],
   "source": [
    "# r = reconstruction.\n",
    "# this function computes the listener's reconstruction of a target speech sound given the stimulus perceived,\n",
    "# i.e. E[T\\S] as given by equation 11, p. 759.\n",
    "def r(x,cats,mu,sigma_c_2,sigma_s_2):\n",
    "    \"\"\"\n",
    "    receives as input:\n",
    "    x, a stimulus number\n",
    "    cats, the categories\n",
    "    mu, the category means\n",
    "    sigma_c_2, the category variance\n",
    "    sigma_s_2, the stimulus variance\n",
    "    returns: the reconstruction of that stimulus, including category-induced bias.\n",
    "    \"\"\"\n",
    "    \n",
    "    # YOUR CODE GOES HERE.\n",
    "    term_1 = (sigma_c_2 / (sigma_c_2 + sigma_s_2)) * x\n",
    "    ps = pcs(x,mu,sigma_c_2,sigma_s_2)\n",
    "    total = sum([ps[c]*mu[c] for c in cats])\n",
    "    term_2 = (sigma_s_2 / (sigma_c_2 + sigma_s_2)) * total\n",
    "    \n",
    "    return term_1 + term_2"
   ]
  },
  {
   "cell_type": "code",
   "execution_count": 8,
   "metadata": {},
   "outputs": [
    {
     "data": {
      "image/png": "[encoded data removed]",
      "text/plain": [
       "<Figure size 432x288 with 1 Axes>"
      ]
     },
     "metadata": {
      "needs_background": "light"
     },
     "output_type": "display_data"
    }
   ],
   "source": [
    "# sanity-check: plot reconstruction, for all stimuli.\n",
    "recon = [r(x,cats,mu,sigma_c_2,sigma_s_2) for x in stims]\n",
    "plt.plot(stims,recon, 'o-', label='Reconstruction')\n",
    "plt.plot(stims,stims, 'o-', label='Stimuli')\n",
    "plt.legend()\n",
    "plt.xticks(stims)\n",
    "plt.show()"
   ]
  },
  {
   "cell_type": "code",
   "execution_count": 9,
   "metadata": {},
   "outputs": [
    {
     "data": {
      "image/png": "[encoded data removed]",
      "text/plain": [
       "<Figure size 432x288 with 1 Axes>"
      ]
     },
     "metadata": {
      "needs_background": "light"
     },
     "output_type": "display_data"
    }
   ],
   "source": [
    "# plot again, in an easier-to-understand way.\n",
    "recon = [r(x,cats,mu,sigma_c_2,sigma_s_2) for x in stims]\n",
    "# plotting all reconstructions at y=3, and all original stimuli at y=1.\n",
    "plt.plot(stims, [3]*len(stims), 'o-', label='Stimuli')\n",
    "plt.plot(recon, [1]*len(stims), 'o-', label='Reconstruction')\n",
    "# now connect original stims to reconstructions with black lines\n",
    "for i in range(len(stims)):\n",
    "    plt.plot([stims[i],recon[i]], [3,1], 'black')\n",
    "plt.legend()\n",
    "plt.xticks(stims)\n",
    "plt.ylim(0,4)\n",
    "frame = plt.gca()\n",
    "frame.axes.get_yaxis().set_visible(False)\n",
    "plt.show()"
   ]
  },
  {
   "cell_type": "code",
   "execution_count": 10,
   "metadata": {},
   "outputs": [
    {
     "name": "stdout",
     "output_type": "stream",
     "text": [
      "[1.6582517996577688, 2.244350595546492, 2.8542806909436074, 3.519681690913163, 4.30638129351018, 5.322797738716654, 6.655659634938505, 8.191968886178566, 9.611031994372237, 10.71842345136212, 11.56124359031088, 12.254088162715188, 12.8761468749553]\n"
     ]
    },
    {
     "data": {
      "text/plain": [
       "{(1, 2): 0.5860987958887232,\n",
       " (2, 3): 0.6099300953971154,\n",
       " (3, 4): 0.6654009999695556,\n",
       " (4, 5): 0.7866996025970168,\n",
       " (5, 6): 1.016416445206474,\n",
       " (6, 7): 1.3328618962218517,\n",
       " (7, 8): 1.536309251240061,\n",
       " (8, 9): 1.4190631081936704,\n",
       " (9, 10): 1.107391456989884,\n",
       " (10, 11): 0.8428201389487597,\n",
       " (11, 12): 0.692844572404308,\n",
       " (12, 13): 0.6220587122401113}"
      ]
     },
     "execution_count": 10,
     "metadata": {},
     "output_type": "execute_result"
    }
   ],
   "source": [
    "# now place reconstruction data in the same format as iverson and kuhl data, to compare.\n",
    "recon_dist = {(i,i+1): abs(recon[i] - recon[i-1]) for i in range(1,12+1)}  # REPLACE - YOUR CODE GOES HERE.\n",
    "print(recon)\n",
    "recon_dist"
   ]
  },
  {
   "cell_type": "code",
   "execution_count": 11,
   "metadata": {},
   "outputs": [
    {
     "data": {
      "image/png": "[encoded data removed]",
      "text/plain": [
       "<Figure size 432x288 with 1 Axes>"
      ]
     },
     "metadata": {
      "needs_background": "light"
     },
     "output_type": "display_data"
    }
   ],
   "source": [
    "# plot model reconstruction data as you did iverson and kuhl empirical data.\n",
    "xt = [i+1 for i in range(len(recon_dist)+1)]   # x tick mark posns, at stimulus numbers\n",
    "x = [(i+j)/2 for (i,j) in recon_dist.keys()]  # actual x values to plot, *between* stimulus numbers\n",
    "y = list(recon_dist.values())\n",
    "plt.plot(x,y, 'ro-')  # red, circle marker, solid line\n",
    "plt.xticks(xt,xt)\n",
    "plt.yticks([0,2])\n",
    "plt.ylim(0,2)\n",
    "plt.legend(['Model'])\n",
    "plt.show()"
   ]
  },
  {
   "cell_type": "code",
   "execution_count": 12,
   "metadata": {},
   "outputs": [
    {
     "data": {
      "image/png": "[encoded data removed]",
      "text/plain": [
       "<Figure size 432x288 with 1 Axes>"
      ]
     },
     "metadata": {
      "needs_background": "light"
     },
     "output_type": "display_data"
    }
   ],
   "source": [
    "# plot model and data together\n",
    "xt = [i+1 for i in range(len(recon_dist)+1)]   # x tick mark posns, at stimulus numbers\n",
    "x = [(i+j)/2 for (i,j) in recon_dist.keys()]  # actual x values to plot, *between* stimulus numbers\n",
    "y_model = list(recon_dist.values())\n",
    "y_data= list(data.values())\n",
    "plt.plot(x,y_model, 'ro-', label='Model')  # red, circle marker, solid line\n",
    "plt.plot(x,y_data, 'bo-', label='Data')  # blue, circle marker, solid line\n",
    "plt.xticks(xt,xt)\n",
    "plt.yticks([0,2])\n",
    "plt.ylim(0,2)\n",
    "plt.legend()\n",
    "plt.show()"
   ]
  },
  {
   "cell_type": "markdown",
   "metadata": {},
   "source": [
    "That is a reasonable-looking fit but not quite what we see in Feldman et al.'s figure 3.  Note that they comment:\n",
    "\n",
    "> Because multidimensional scaling gives relative, and\n",
    "not absolute, distances between stimuli, we evaluated this comparison [between model and data]\n",
    "on the basis of whether mel distances in the model were proportional\n",
    "to distances found through multidimensional scaling. As shown in\n",
    "Figure 3, the model yielded an extremely close fit to the empirical\n",
    "data, yielding interstimulus distances that were proportional to those\n",
    "found in multidimensional scaling ($r = .97$).\n",
    "\n",
    "And of course what we're looking at in the figure above is absolute distance, not relative.  The fact that there is a qualitative alignment is promising, but the following questions remain open:\n",
    "1. Does this alignment yield the reported Pearson correlation coefficient $r$ of .97?\n",
    "2. What do model and data look like when aligned?"
   ]
  },
  {
   "cell_type": "code",
   "execution_count": 13,
   "metadata": {},
   "outputs": [
    {
     "name": "stdout",
     "output_type": "stream",
     "text": [
      "Pearson's r between model and data is: 0.9674085600229999\n"
     ]
    }
   ],
   "source": [
    "# check pearson correlation\n",
    "# YOUR CODE GOES HERE - CAN USE scipy.stats.pearsonr\n",
    "pearson_r, p = scipy.stats.pearsonr(y_data, y_model) # REPLACE - YOUR CODE GOES HERE.\n",
    "print (\"Pearson's r between model and data is:\", pearson_r)"
   ]
  },
  {
   "cell_type": "code",
   "execution_count": 14,
   "metadata": {},
   "outputs": [
    {
     "data": {
      "image/png": "[encoded data removed]",
      "text/plain": [
       "<Figure size 432x288 with 1 Axes>"
      ]
     },
     "metadata": {
      "needs_background": "light"
     },
     "output_type": "display_data"
    }
   ],
   "source": [
    "# plot model and data together, this time aligned.  use linear regression to align them.\n",
    "xt = [i+1 for i in range(len(recon_dist)+1)]   # x tick mark posns, at stimulus numbers\n",
    "x = [(i+j)/2 for (i,j) in recon_dist.keys()]  # actual x values to plot, *between* stimulus numbers\n",
    "y_model = list(recon_dist.values())\n",
    "y_data= list(data.values())\n",
    "\n",
    "# scale y_model to fit y_data\n",
    "# this follows https://realpython.com/linear-regression-in-python/\n",
    "# params to fit are x,y - so here we are getting betas to convert y_model into y_data.\n",
    "model = LinearRegression().fit(np.array(y_model).reshape((-1, 1)), np.array(y_data))\n",
    "intercept = model.intercept_\n",
    "slope = model.coef_[0]\n",
    "scaled_y_model = [(slope*x)+intercept for x in y_model]\n",
    "\n",
    "plt.plot(x,scaled_y_model, 'ro-', label='Model')  # red, circle marker, solid line\n",
    "plt.plot(x,y_data, 'bo-', label='Data')  # blue, circle marker, solid line\n",
    "plt.xticks(xt,xt)\n",
    "plt.yticks([0,2])\n",
    "plt.ylim(0,2)\n",
    "plt.legend()\n",
    "plt.show()"
   ]
  },
  {
   "cell_type": "markdown",
   "metadata": {},
   "source": [
    "### Fitting the model to data\n",
    "\n",
    "So far we have used parameter values reported by Feldman et al., and on that basis we have replicated their reported fit of the model to the Iverson and Kuhl data, both quantitatively via correlation, and qualitatively via visual comparison with Feldman et al.'s figure 3.  In this last section, we will only pre-specify certain parameter values, leaving others free to vary, and we will set those parameters by fitting the model to the data.  Specifically:\n",
    "\n",
    "1. We will leave stimulus uncertainty $\\sigma^2_S$ free to vary, and adjust it to fit the model to the data, to see whether our model-fitting procedure yields the same value for this parameter, and the same overall fit, as reported by Feldman et al.\n",
    "\n",
    "2. A model may succeed in fitting empirical data because of a meaningful match between the structures of the model and the forces that produced the data in the real world.  Alternatively, a model may succeed in fitting the data for a much less interesting reason: if the model is highly flexible, it could in principle fit many different sorts of data, including the empirical data we have but also including other sorts of data that hypothetically could exist, but do not.  To explore this possibility, and hopefully rule it out, we will also attempt to fit the Feldman et al. model to hypothetical rather than real data."
   ]
  },
  {
   "cell_type": "markdown",
   "metadata": {},
   "source": [
    "### Objective function\n",
    "\n",
    "We will fit the model to the data using  <span style=\"font-family:Courier New\">minimize</span> from <span style=\"font-family:Courier New\">scipy.optimize</span>, which we used earlier in the maxent OT homework.  This requires that we define an objective function which, when minimized, yields a solution to our problem.\n",
    "\n",
    "We will have a solution to our problem when the model output (stimulus reconstruction) aligns well with the empirical data.  We will use mean squared error as a measure of alignment in our objective function.  After fitting, we can also follow up using Pearson's $r$ as we did above and as reported by Feldman et al. \n",
    "\n",
    "We will minimize this function by fitting $\\sigma^2_S$ to the data &mdash; but there is a dependency here that we need to be careful about.  The probability of assigning each stimulus to each category is given by $p(c|S)$ above, and this quantity, which was fit to other data, depends on the sum $\\sigma^2_c + \\sigma^2_S$.  We don't want to disturb that other data-fit, so we will keep the sum $\\sigma^2_c + \\sigma^2_S$ fixed while we adjust $\\sigma^2_S$ here.  We will do that by also adjusting $\\sigma^2_c$ to compensate for any change to $\\sigma^2_S$, keeping the sum of the two quantities constant."
   ]
  },
  {
   "cell_type": "code",
   "execution_count": 15,
   "metadata": {},
   "outputs": [],
   "source": [
    "def obj(ss, stims,cats,mu,summed_sigma_2,data):\n",
    "    \"\"\"\n",
    "    objective fn for fitting feldman et al. model to data.\n",
    "    accepts as input:\n",
    "    ss, which corresponds to sigma_s UNSQUARED - we pass this in, rather than sigma_s squared,\n",
    "    so sigma^2 cannot go negative during fitting.\n",
    "    other_vars are:\n",
    "    stims - stimuli \n",
    "    cats - categories\n",
    "    mu - category means\n",
    "    summed_sigma_2 - sum of cat and stimulus vars\n",
    "    data - iverson and kuhl data, to fit.\n",
    "    returns:\n",
    "    mean squared error between model and data. \n",
    "    \"\"\"\n",
    "    \n",
    "    # sigma_s_2 is ss squared, and sigma_c_2 is determined from that.\n",
    "    # this preserves the dependency mentioned above.\n",
    "    sigma_s_2 = ss*ss  # set sigma_s_2 to the passed-in value, squared.\n",
    "    sigma_c_2 = summed_sigma_2 - sigma_s_2\n",
    "    \n",
    "    # YOUR CODE GOES HERE.\n",
    "    recon = [r(x,cats,mu,sigma_c_2,sigma_s_2) for x in stims]\n",
    "    recon_dist = {(i+1,i+2): abs(recon[i+1]-recon[i]) for i in range(len(recon)-1)}\n",
    "\n",
    "    # find mean squared error, and return that value.\n",
    "    x = list(data.values())\n",
    "    y = list(recon_dist.values())\n",
    "\n",
    "    # for unclear reasons, y sometimes appears as a list of floats (good), but when this fn is\n",
    "    # called from within minimize, y appears as a list of 1-element numpy.ndarrays instead (bad).  \n",
    "    # so here i correct for that possibility.  this is admittedly a total kludge.\n",
    "    if not isinstance(y[0], float):\n",
    "        y = [elt[0] for elt in y]\n",
    "\n",
    "    mse = mean_squared_error(x,y)\n",
    "    return(mse)"
   ]
  },
  {
   "cell_type": "code",
   "execution_count": 16,
   "metadata": {},
   "outputs": [
    {
     "name": "stdout",
     "output_type": "stream",
     "text": [
      "0.01 0.14601199511624138\n",
      "2 0.030362062516353937\n",
      "5 0.8085879502080294\n",
      "25 1644.2876547819135\n",
      "50 27433.37085875862\n",
      "100 443520.72801905725\n"
     ]
    }
   ],
   "source": [
    "# sanity-check: see what our objective function returns for a wide variety of ss values.\n",
    "for ss in [0.01, 2, 5, 25, 50, 100]:\n",
    "    print(ss,obj(ss,stims,cats,mu,summed_sigma_2,data))"
   ]
  },
  {
   "cell_type": "code",
   "execution_count": 17,
   "metadata": {},
   "outputs": [
    {
     "name": "stdout",
     "output_type": "stream",
     "text": [
      "ss is 100\n",
      "objective before minimization: 443520.72801905725\n",
      "Optimization terminated successfully.\n",
      "         Current function value: 0.023427\n",
      "         Iterations: 23\n",
      "         Function evaluations: 54\n",
      "         Gradient evaluations: 27\n",
      "objective after minimization: 0.023426881544675652\n",
      "ss after minimization: 2.290917992847011\n"
     ]
    }
   ],
   "source": [
    "# ss is the *unsquared* sigma of stimulus.\n",
    "# we start ss at a value known to yield not a very good fit, from our above sanity-check.\n",
    "ss = 100\n",
    "x0 = np.array([ss])  # arbitrary starting point\n",
    "print(\"ss is\", ss)\n",
    "# now optimize.\n",
    "print(\"objective before minimization:\", obj(ss,stims,cats,mu,summed_sigma_2,data))\n",
    "res = minimize(obj, x0, args=(stims,cats,mu,summed_sigma_2,data), \n",
    "               options={'disp': True, 'maxiter': 10000}, tol = 1.0E-6)\n",
    "print(\"objective after minimization:\", res.fun)\n",
    "ss = res.x[0]\n",
    "print(\"ss after minimization:\", ss)"
   ]
  },
  {
   "cell_type": "code",
   "execution_count": 18,
   "metadata": {},
   "outputs": [
    {
     "name": "stdout",
     "output_type": "stream",
     "text": [
      "Fit value for sigma_s_2 = 5.248305249950178 - Feldman et al.'s value = 4.987777776\n",
      "Pearson's r between model and data is: 0.967408560023\n"
     ]
    }
   ],
   "source": [
    "# sanity-check - make sure that the model fit is in fact good with these parameters.\n",
    "# set your variables appropriately, based on optimization above.\n",
    "sigma_s_2 = ss*ss\n",
    "print(\"Fit value for sigma_s_2 =\", sigma_s_2, \"- Feldman et al.'s value = 4.987777776\")\n",
    "sigma_c_2 = summed_sigma_2 - sigma_s_2\n",
    "recon = [r(x,cats,mu,sigma_c_2,sigma_s_2) for x in stims]\n",
    "recon_dist = {(i+1,i+2): abs(recon[i+1]-recon[i]) for i in range(len(recon)-1)}  # REPLACE - YOUR CODE GOES HERE.\n",
    "x = list(data.values())\n",
    "y = list(recon_dist.values())\n",
    "\n",
    "# first a quantitative sanity-check, via pearson correlation.\n",
    "# YOUR CODE GOES HERE - CAN USE scipy.stats.pearsonr\n",
    "pearson_r, p = scipy.stats.pearsonr(x,y)  # REPLACE - YOUR CODE GOES HERE.\n",
    "print (\"Pearson's r between model and data is:\", pearson_r)"
   ]
  },
  {
   "cell_type": "code",
   "execution_count": 19,
   "metadata": {},
   "outputs": [
    {
     "data": {
      "text/plain": [
       "[0.5, 0.69, 0.56, 0.88, 1.18, 1.46, 1.75, 1.53, 1.25, 1.07, 0.88, 0.83]"
      ]
     },
     "metadata": {},
     "output_type": "display_data"
    },
    {
     "data": {
      "text/plain": [
       "[0.5644794214869782,\n",
       " 0.5895555054546433,\n",
       " 0.6479238315432392,\n",
       " 0.7755582454188046,\n",
       " 1.0172739282766825,\n",
       " 1.3502483301993662,\n",
       " 1.564322386699704,\n",
       " 1.4409521052393597,\n",
       " 1.113000853853558,\n",
       " 0.8346101356177069,\n",
       " 0.6768008689244418,\n",
       " 0.6023176384746911]"
      ]
     },
     "metadata": {},
     "output_type": "display_data"
    }
   ],
   "source": [
    "display(x)\n",
    "display(y)"
   ]
  },
  {
   "cell_type": "code",
   "execution_count": 20,
   "metadata": {},
   "outputs": [
    {
     "data": {
      "image/png": "[encoded data removed]",
      "text/plain": [
       "<Figure size 432x288 with 1 Axes>"
      ]
     },
     "metadata": {
      "needs_background": "light"
     },
     "output_type": "display_data"
    }
   ],
   "source": [
    "plt.scatter(x,y)\n",
    "plt.show()"
   ]
  },
  {
   "cell_type": "code",
   "execution_count": 21,
   "metadata": {
    "scrolled": true
   },
   "outputs": [
    {
     "data": {
      "image/png": "[encoded data removed]",
      "text/plain": [
       "<Figure size 432x288 with 1 Axes>"
      ]
     },
     "metadata": {
      "needs_background": "light"
     },
     "output_type": "display_data"
    }
   ],
   "source": [
    "# now a visual sanity-check: plot model vs. data, as before.  but don't scale the data.\n",
    "xt = [i+1 for i in range(len(recon_dist)+1)]   # x tick mark posns, at stimulus numbers\n",
    "x = [(i+j)/2 for (i,j) in recon_dist.keys()]  # actual x values to plot, *between* stimulus numbers\n",
    "y_model = list(recon_dist.values())\n",
    "y_data= list(data.values())\n",
    "plt.plot(x,y_model, 'ro-', label='Model')  # red, circle marker, solid line\n",
    "plt.plot(x,y_data, 'bo-', label='Data')  # blue, circle marker, solid line\n",
    "plt.xticks(xt,xt)\n",
    "plt.yticks([0,2])\n",
    "plt.ylim(0,2)\n",
    "plt.legend()\n",
    "plt.show()"
   ]
  },
  {
   "cell_type": "markdown",
   "metadata": {},
   "source": [
    "### Hypothetical data\n",
    "\n",
    "It's nice that we are able to fit the model to the empirical data.  But how do we know the model isn't overly flexible, such that it could also fit data very much unlike the data we see here?\n",
    "\n",
    "To test this, we will attempt to fit the model again, but this time to **hypothetical data** - specifically we will take the real Iverson and Kuhl data and invert them, flipping them around the value y = 1, and see if we can fit that artificial data set that has been deliberately made to look quite unlike the real data."
   ]
  },
  {
   "cell_type": "code",
   "execution_count": 22,
   "metadata": {},
   "outputs": [
    {
     "data": {
      "image/png": "[encoded data removed]",
      "text/plain": [
       "<Figure size 432x288 with 1 Axes>"
      ]
     },
     "metadata": {
      "needs_background": "light"
     },
     "output_type": "display_data"
    }
   ],
   "source": [
    "# create hypothetical data, and plot.\n",
    "# invert the data.\n",
    "hdata = {key: (2 - data_point) for key, data_point in data.items()}  # REPLACE - YOUR CODE GOES HERE.\n",
    "xt = [i+1 for i in range(len(hdata)+1)]   # x tick mark posns, at stimulus numbers\n",
    "x = [(i+j)/2 for (i,j) in hdata.keys()]  # actual x values to plot, *between* stimulus numbers\n",
    "y = list(hdata.values())\n",
    "plt.plot(x,y, 'bo-')  # blue, circle marker, solid line\n",
    "plt.xticks(xt,xt)\n",
    "plt.yticks([0,2])\n",
    "plt.ylim(0,2)\n",
    "plt.legend(['Hypothetical data'])\n",
    "plt.show()"
   ]
  },
  {
   "cell_type": "code",
   "execution_count": 23,
   "metadata": {},
   "outputs": [
    {
     "name": "stdout",
     "output_type": "stream",
     "text": [
      "ss is 100\n",
      "objective before minimization: 443520.72801905725\n",
      "Optimization terminated successfully.\n",
      "         Current function value: 0.146017\n",
      "         Iterations: 20\n",
      "         Function evaluations: 44\n",
      "         Gradient evaluations: 22\n",
      "objective after minimization: 0.14601666666671198\n",
      "ss after minimization: -9.850028375633056e-07\n"
     ]
    }
   ],
   "source": [
    "# now fit to the hypothetical data.\n",
    "# ss is the *unsquared* sigma of stimulus.\n",
    "ss = 100\n",
    "x0 = np.array([ss])  # arbitrary starting point\n",
    "print(\"ss is\", ss)\n",
    "# now optimize.\n",
    "print(\"objective before minimization:\", obj(ss,stims,cats,mu,summed_sigma_2,data))\n",
    "res = minimize(obj, x0, args=(stims,cats,mu,summed_sigma_2,hdata), \n",
    "               options={'disp': True, 'maxiter': 10000}, tol = 1.0E-6)\n",
    "print(\"objective after minimization:\", res.fun)\n",
    "ss = res.x[0]\n",
    "print(\"ss after minimization:\", ss)"
   ]
  },
  {
   "cell_type": "code",
   "execution_count": 24,
   "metadata": {},
   "outputs": [
    {
     "name": "stdout",
     "output_type": "stream",
     "text": [
      "Fit value for sigma_s_2 = 9.702305900077638e-13\n",
      "Pearson's r between model and data is: -0.967522787632184\n"
     ]
    }
   ],
   "source": [
    "# now examine the results of this fit to hypothetical data.\n",
    "# set your variables appropriately, based on optimization above.\n",
    "sigma_s_2 = ss*ss\n",
    "print(\"Fit value for sigma_s_2 =\", sigma_s_2)\n",
    "sigma_c_2 = summed_sigma_2 - sigma_s_2\n",
    "\n",
    "# now reconstruct stimuli based on these new parameters.\n",
    "recon = [r(x,cats,mu,sigma_c_2,sigma_s_2) for x in stims]\n",
    "recon_dist = {(i+1,i+2): abs(recon[i+1]-recon[i]) for i in range(len(recon)-1)}  # REPLACE - YOUR CODE GOES HERE.\n",
    "x = list(hdata.values())\n",
    "y = list(recon_dist.values())\n",
    "\n",
    "# first a quantitative sanity-check, via pearson correlation.\n",
    "# YOUR CODE GOES HERE - CAN USE scipy.stats.pearsonr\n",
    "pearson_r, p = scipy.stats.pearsonr(x,y)  # REPLACE - YOUR CODE GOES HERE.\n",
    "print (\"Pearson's r between model and data is:\", pearson_r)"
   ]
  },
  {
   "cell_type": "code",
   "execution_count": 25,
   "metadata": {},
   "outputs": [
    {
     "data": {
      "text/plain": [
       "[1.5,\n",
       " 1.31,\n",
       " 1.44,\n",
       " 1.12,\n",
       " 0.8200000000000001,\n",
       " 0.54,\n",
       " 0.25,\n",
       " 0.47,\n",
       " 0.75,\n",
       " 0.9299999999999999,\n",
       " 1.12,\n",
       " 1.17]"
      ]
     },
     "metadata": {},
     "output_type": "display_data"
    },
    {
     "data": {
      "text/plain": [
       "[0.9999999999999194,\n",
       " 0.9999999999999241,\n",
       " 0.9999999999999352,\n",
       " 0.9999999999999583,\n",
       " 1.0000000000000036,\n",
       " 1.000000000000064,\n",
       " 1.0000000000001048,\n",
       " 1.0000000000000817,\n",
       " 1.0000000000000213,\n",
       " 0.999999999999968,\n",
       " 0.9999999999999414,\n",
       " 0.9999999999999272]"
      ]
     },
     "metadata": {},
     "output_type": "display_data"
    }
   ],
   "source": [
    "display(x)\n",
    "display(y)"
   ]
  },
  {
   "cell_type": "code",
   "execution_count": 26,
   "metadata": {},
   "outputs": [
    {
     "data": {
      "image/png": "[encoded data removed]",
      "text/plain": [
       "<Figure size 432x288 with 1 Axes>"
      ]
     },
     "metadata": {
      "needs_background": "light"
     },
     "output_type": "display_data"
    }
   ],
   "source": [
    "plt.scatter(x,y)\n",
    "plt.show()"
   ]
  },
  {
   "cell_type": "code",
   "execution_count": 27,
   "metadata": {
    "scrolled": true
   },
   "outputs": [
    {
     "data": {
      "image/png": "[encoded data removed]",
      "text/plain": [
       "<Figure size 432x288 with 1 Axes>"
      ]
     },
     "metadata": {
      "needs_background": "light"
     },
     "output_type": "display_data"
    }
   ],
   "source": [
    "# now a visual sanity-check: plot model vs. data, as before.  but don't scale the data.\n",
    "xt = [i+1 for i in range(len(recon_dist)+1)]   # x tick mark posns, at stimulus numbers\n",
    "x = [(i+j)/2 for (i,j) in recon_dist.keys()]  # actual x values to plot, *between* stimulus numbers\n",
    "y_model = list(recon_dist.values())\n",
    "y_data= list(hdata.values())\n",
    "plt.plot(x,y_model, 'ro-', label='Model')  # red, circle marker, solid line\n",
    "plt.plot(x,y_data, 'bo-', label='Hypothetical data')  # blue, circle marker, solid line\n",
    "plt.xticks(xt,xt)\n",
    "plt.yticks([0,2])\n",
    "plt.ylim(0,2)\n",
    "plt.legend()\n",
    "plt.show()"
   ]
  },
  {
   "cell_type": "markdown",
   "metadata": {},
   "source": [
    "# Observations and conclusions\n",
    "\n",
    "- Write your general observations about the results here, and conclusions you can draw from them.  A short paragraph would be fine, but please separately specify observations and conclusions.\n",
    "\n",
    "##### Observations:\n",
    "- \n",
    "\n",
    "##### Conclusions:\n",
    "- "
   ]
  }
 ],
 "metadata": {
  "kernelspec": {
   "display_name": "Python 3",
   "language": "python",
   "name": "python3"
  },
  "language_info": {
   "codemirror_mode": {
    "name": "ipython",
    "version": 3
   },
   "file_extension": ".py",
   "mimetype": "text/x-python",
   "name": "python",
   "nbconvert_exporter": "python",
   "pygments_lexer": "ipython3",
   "version": "3.8.3"
  }
 },
 "nbformat": 4,
 "nbformat_minor": 2
}
