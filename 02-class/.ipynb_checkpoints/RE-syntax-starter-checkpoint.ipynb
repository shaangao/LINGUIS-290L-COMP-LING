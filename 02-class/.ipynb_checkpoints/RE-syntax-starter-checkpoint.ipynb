{
 "cells": [
  {
   "cell_type": "markdown",
   "metadata": {},
   "source": [
    "# Syntax\n",
    "\n",
    "Written by Geoff Bacon for a D-lab workshop.\n",
    "\n",
    "Lightly touched up by Terry Regier, for class, Aug. 30 2020.\n",
    "\n",
    "Now that we've seen what regular expressions are, what they're good for, let's get down to business. Learning to use regular expressions is mostly about learning regular expression syntax, the special ways we can characters together to make regular expressions. This notebook will be the bulk of our workshop."
   ]
  },
  {
   "cell_type": "markdown",
   "metadata": {},
   "source": [
    "## Regular expression syntax<a id='section 1'></a>\n",
    "\n",
    "All regular expressions are composed of two types of characters: \n",
    "* Literals (normal characters)\n",
    "* Metacharacters (special characters)\n",
    "\n",
    "### Matching characters exactly\n",
    "\n",
    "Literals match exactly what they are, they mean what they say. For example, the regular expression `Berkeley` will match the string \"Berkeley\". (It won't match \"berkeley\", \"berkeeley\" or \"berkely\"). Most characters are literals.\n",
    "\n",
    "In the example below, the regular expression `regular` will match the string \"regular\" exactly."
   ]
  },
  {
   "cell_type": "code",
   "execution_count": 1,
   "metadata": {},
   "outputs": [
    {
     "data": {
      "text/plain": [
       "['regular']"
      ]
     },
     "execution_count": 1,
     "metadata": {},
     "output_type": "execute_result"
    }
   ],
   "source": [
    "import re\n",
    "pattern = 'regular'\n",
    "test_string = 'we are practising our regular expressions'\n",
    "re.findall(pattern, test_string)"
   ]
  },
  {
   "cell_type": "markdown",
   "metadata": {},
   "source": [
    "### Matching special patterns\n",
    "\n",
    "Metacharacters don't match themselves. Instead, they signal that some out-of-the-ordinary thing should be matched, or they affect other portions of the RE by repeating them or changing their meaning. For example, you might want find all mentions of \"dogs\" in a text, but you also want to include \"dog\". That is, you want to match \"dogs\" but you don't care if the \"s\" is or isn't there. Or you might want to find the word \"the\" but only at the beginning of a sentence, not in the middle. For these out-of-the-ordinary patterns, we use metacharacters.\n",
    "\n",
    "In this workshop, we'll discuss the following metacharacters:\n",
    "\n",
    ". ^ $ * + ? { } [ ] \\ | ( )"
   ]
  },
  {
   "cell_type": "code",
   "execution_count": 2,
   "metadata": {},
   "outputs": [
    {
     "data": {
      "text/plain": [
       "['dogs', 'dog']"
      ]
     },
     "execution_count": 2,
     "metadata": {},
     "output_type": "execute_result"
    }
   ],
   "source": [
    "pattern = 'dogs?'  # \"?\": the last thing specified (\"s\" in this case) is optional\n",
    "test_string = \"I like dogs but my dog doesn't like me.\"\n",
    "re.findall(pattern, test_string)"
   ]
  },
  {
   "cell_type": "code",
   "execution_count": 3,
   "metadata": {},
   "outputs": [
    {
     "data": {
      "text/plain": [
       "['the']"
      ]
     },
     "execution_count": 3,
     "metadata": {},
     "output_type": "execute_result"
    }
   ],
   "source": [
    "pattern = '^the'  # \"^\": only return the one that's at the beginning\n",
    "test_string = \"the best thing about the theatre is the atmosphere\"\n",
    "re.findall(pattern, test_string)"
   ]
  },
  {
   "cell_type": "markdown",
   "metadata": {},
   "source": [
    "### Our first metacharacters: [ and ]\n",
    "\n",
    "The first metacharacters we’ll look at are [ and ]. They’re used for specifying a character class, which is a set of characters that you wish to match."
   ]
  },
  {
   "cell_type": "code",
   "execution_count": 4,
   "metadata": {},
   "outputs": [
    {
     "data": {
      "text/plain": [
       "['a', 'b', 'a', 'a', 'a', 'b', 'a']"
      ]
     },
     "execution_count": 4,
     "metadata": {},
     "output_type": "execute_result"
    }
   ],
   "source": [
    "vowel_pattern = '[ab]'  # either \"a\" or \"b\"\n",
    "test_string = 'abracadabra'\n",
    "re.findall(vowel_pattern, test_string)"
   ]
  },
  {
   "cell_type": "markdown",
   "metadata": {},
   "source": [
    "#### Challenge 1\n",
    "Find all the p's and q's in the test string below."
   ]
  },
  {
   "cell_type": "code",
   "execution_count": 5,
   "metadata": {},
   "outputs": [],
   "source": [
    "test_string = \"Quick, there's a large goat filled with pizzaz. Is there a path to the queen of Zanzabar?\""
   ]
  },
  {
   "cell_type": "code",
   "execution_count": 6,
   "metadata": {},
   "outputs": [
    {
     "data": {
      "text/plain": [
       "['p', 'p', 'q']"
      ]
     },
     "execution_count": 6,
     "metadata": {},
     "output_type": "execute_result"
    }
   ],
   "source": [
    "re.findall(r'[pq]', test_string)"
   ]
  },
  {
   "cell_type": "markdown",
   "metadata": {},
   "source": [
    "#### Challenge 2\n",
    "Find all the vowels in the test sentence below."
   ]
  },
  {
   "cell_type": "code",
   "execution_count": 7,
   "metadata": {},
   "outputs": [],
   "source": [
    "test_string = 'the quick brown fox jumped over the lazy dog'"
   ]
  },
  {
   "cell_type": "code",
   "execution_count": 8,
   "metadata": {},
   "outputs": [
    {
     "data": {
      "text/plain": [
       "['e', 'u', 'i', 'o', 'o', 'u', 'e', 'o', 'e', 'e', 'a', 'o']"
      ]
     },
     "execution_count": 8,
     "metadata": {},
     "output_type": "execute_result"
    }
   ],
   "source": [
    "re.findall(r'[aeiou]', test_string)"
   ]
  },
  {
   "cell_type": "markdown",
   "metadata": {},
   "source": [
    "### Ranges\n",
    "\n",
    "Characters can be listed individually, or a range of characters can be indicated by giving two characters and separating them by a '-'. For example, `[abc]` will match any of the characters a, b, or c; this is the same as `[a-c]`.\n",
    "\n",
    "#### Challenge 3\n",
    "Find all the capital letters in the following string."
   ]
  },
  {
   "cell_type": "code",
   "execution_count": 9,
   "metadata": {},
   "outputs": [],
   "source": [
    "test_string = 'The 44th pPresident of the United States of America was Barack Obama'"
   ]
  },
  {
   "cell_type": "code",
   "execution_count": 10,
   "metadata": {},
   "outputs": [
    {
     "data": {
      "text/plain": [
       "['T', 'P', 'U', 'S', 'A', 'B', 'O']"
      ]
     },
     "execution_count": 10,
     "metadata": {},
     "output_type": "execute_result"
    }
   ],
   "source": [
    "re.findall(r'[A-Z]', test_string)"
   ]
  },
  {
   "cell_type": "markdown",
   "metadata": {},
   "source": [
    "### Complements\n",
    "\n",
    "You can match the characters not listed within the class by complementing the set. This is indicated by including a `^` as the first character of the class; `^` outside a character class will simply match the `^` character. For example, `[^5]` will match any character except `5`."
   ]
  },
  {
   "cell_type": "code",
   "execution_count": 11,
   "metadata": {},
   "outputs": [
    {
     "data": {
      "text/plain": [
       "['h', 'e', ' ', 'q', 'u']"
      ]
     },
     "execution_count": 11,
     "metadata": {},
     "output_type": "execute_result"
    }
   ],
   "source": [
    "everything_but_t = '[^t]'\n",
    "test_string = 'the quick brown fox jumped over the lazy dog'\n",
    "re.findall(everything_but_t, test_string)[:5]"
   ]
  },
  {
   "cell_type": "markdown",
   "metadata": {},
   "source": [
    "#### Challenge 4\n",
    "Find all the non-vowels in the test sentence below."
   ]
  },
  {
   "cell_type": "code",
   "execution_count": 12,
   "metadata": {},
   "outputs": [],
   "source": [
    "test_string = 'the quick brown fox jumped over the lazy dog'"
   ]
  },
  {
   "cell_type": "code",
   "execution_count": 13,
   "metadata": {},
   "outputs": [
    {
     "data": {
      "text/plain": [
       "['t', 'h', ' ', 'q', 'c', 'k', ' ', 'b', 'r', 'w', 'n']"
      ]
     },
     "execution_count": 13,
     "metadata": {},
     "output_type": "execute_result"
    }
   ],
   "source": [
    "re.findall(r'[^aeiou]', test_string[:15])"
   ]
  },
  {
   "cell_type": "markdown",
   "metadata": {},
   "source": [
    "#### Challenge 5\n",
    "Find all the `^` characters in the following test sentence."
   ]
  },
  {
   "cell_type": "code",
   "execution_count": 14,
   "metadata": {},
   "outputs": [],
   "source": [
    "test_string = \"\"\"You can match the characters not listed within the class by complementing the set. \n",
    "This is indicated by including a ^ as the first character of the class; \n",
    "^ outside a character class will simply match the ^ character. \n",
    "For example, [^5] will match any character except 5.\"\"\""
   ]
  },
  {
   "cell_type": "code",
   "execution_count": 15,
   "metadata": {},
   "outputs": [
    {
     "data": {
      "text/plain": [
       "['^', '^', '^', '^']"
      ]
     },
     "execution_count": 15,
     "metadata": {},
     "output_type": "execute_result"
    }
   ],
   "source": [
    "re.findall(r'\\^', test_string)"
   ]
  },
  {
   "cell_type": "markdown",
   "metadata": {},
   "source": [
    "### Matching metacharacters literally\n",
    "\n",
    "Challenge 5 is actually a bit of a trick. The problem is that we want to match the `^` character, but it's interpreted as a metacharacter, a character which has a special meaning. If we want to literally match the `^`, we have to \"escape\" its special meaning. For this, we use the `\\`.\n",
    "\n",
    "#### Challenge 6\n",
    "Find all the square brackets `[` and `]` in the following test string"
   ]
  },
  {
   "cell_type": "code",
   "execution_count": 16,
   "metadata": {},
   "outputs": [],
   "source": [
    "test_string = \"The first metacharacters we'll look at are [ and ].\""
   ]
  },
  {
   "cell_type": "code",
   "execution_count": 17,
   "metadata": {},
   "outputs": [
    {
     "data": {
      "text/plain": [
       "['[', ']']"
      ]
     },
     "execution_count": 17,
     "metadata": {},
     "output_type": "execute_result"
    }
   ],
   "source": [
    "re.findall(r'[\\[\\]]', test_string)"
   ]
  },
  {
   "cell_type": "markdown",
   "metadata": {},
   "source": [
    "### Character classes\n",
    "\n",
    "The backslash `\\` has another use in regexes, in addition to escaping metacharacters. It's used as the first character in special two-character combinations that have special meanings. These special two-character combinations are really shorthand for sets of characters.\n",
    "\n",
    "|      Character     |       Meaning      |   Shorthand for  |\n",
    "|:------------------:|:------------------:|:----------:|\n",
    "|        `\\d`        |      any digit     | `[0-9]` |\n",
    "|        `\\D`        |    any non-digit   |    `[^0-9]`    |\n",
    "|        `\\s`        |   any whitespace   |    `[ \\t\\n\\r\\f\\v]`    |\n",
    "|        `\\S`        | any non-whitespace |    `[^ \\t\\n\\r\\f\\v]`    |\n",
    "|        `\\w`        | any word character |    `[a-zA-Z0-9_]`    |\n",
    "| what do you think? | any non-word char. |         `?`   |\n",
    "\n",
    "Now here's a quick tip. When writing regular expressions in Python, use raw strings instead of normal strings. Raw strings are preceded by an `r` in Python code. If we don't, the Python interpreter will try to convert backslashed characters before passing them to the regular expression engine. This will end in tears. You can read more about this [here](https://docs.python.org/3/library/re.html#module-re).\n",
    "\n",
    "#### Challenge 7\n",
    "Find all three digit prices in the following test sentence. Remember the `$` is a metacharacter so needs to be escaped."
   ]
  },
  {
   "cell_type": "code",
   "execution_count": 18,
   "metadata": {},
   "outputs": [],
   "source": [
    "test_string = 'The iPhone X costs over $999, while the Android competitor comes in at around $550.'"
   ]
  },
  {
   "cell_type": "code",
   "execution_count": 19,
   "metadata": {},
   "outputs": [
    {
     "data": {
      "text/plain": [
       "['$999', '$550']"
      ]
     },
     "execution_count": 19,
     "metadata": {},
     "output_type": "execute_result"
    }
   ],
   "source": [
    "re.findall(r'\\$\\d{3}', test_string)"
   ]
  },
  {
   "cell_type": "markdown",
   "metadata": {},
   "source": [
    "### Repeating things\n",
    "\n",
    "Being able to match varying sets of characters is the first thing regular expressions can do that isn’t already possible with the methods available on strings. However, if that was the only additional capability of regexes, they wouldn’t be much of an advance. Another capability is that you can specify that portions of the RE must be repeated a certain number of times.\n",
    "\n",
    "| Character |        Meaning        |    Example    |                Matches               |\n",
    "|:---------:|:---------------------:|:-------------:|:------------------------------------:|\n",
    "|   `{n}`   |    exactly n times    |     `a{3}`    |                 'aaa'                |\n",
    "|  `{n, m}` | between n and m times | `[1-9]{2, 4}` |          '12', '123', '1234'         |\n",
    "|    `?`    |      0 or 1 times     |   `colou?r`   |           'color', 'colour'          |\n",
    "|    `*`    |    0 or more times    |    `data!*`   | 'data', 'data!', 'data!!', 'data!!!' |\n",
    "|    `+`    |    1 or more times    |     `lo+l`    |        'lol', 'lool', 'loool'        |\n",
    "\n",
    "#### Challenge 8\n",
    "Find all prices in the following test sentence."
   ]
  },
  {
   "cell_type": "code",
   "execution_count": 20,
   "metadata": {},
   "outputs": [],
   "source": [
    "test_string = \"\"\"The iPhone X costs over $999, while the Android competitor comes in at around $550.\n",
    "Apple's MacBook Pro costs $1200, while just a few years ago it was $1700.\n",
    "A new charger for the MacBook costs over $80.\n",
    "\"\"\""
   ]
  },
  {
   "cell_type": "code",
   "execution_count": 21,
   "metadata": {},
   "outputs": [
    {
     "data": {
      "text/plain": [
       "['$999', '$550', '$1200', '$1700', '$80']"
      ]
     },
     "execution_count": 21,
     "metadata": {},
     "output_type": "execute_result"
    }
   ],
   "source": [
    "re.findall(r'\\$\\d*', test_string)"
   ]
  },
  {
   "cell_type": "markdown",
   "metadata": {},
   "source": [
    "### The `re` module in Python\n",
    "\n",
    "The regular expression syntax that we've seen so far covers most of the common use cases. Let's take a break from the syntax, and focus on Python's re module. It has some quirks that we should talk about, after which we'll get back to the syntax.\n",
    "\n",
    "Up until now we've only used `re.findall`. This function takes two arguments, a `pattern` and a `text` to search through. It returns a list of all the substrings in `text` that follow `pattern`. \n",
    "\n",
    "Two other common functions are `re.match` and `re.search`. These take the same two arguments as `re.findall`. `re.search` looks through `text` for the **first** occurrence of `pattern`. `re.match` only looks at the start of `text`. Rather than returning a list, these two functions return a `match` object, which contains information about the substring in `text` that matches `pattern`. For example, it gives you the starting and ending index of the substring. If no such matching substring is found, they return `None`."
   ]
  },
  {
   "cell_type": "code",
   "execution_count": 22,
   "metadata": {},
   "outputs": [
    {
     "data": {
      "text/plain": [
       "<re.Match object; span=(24, 28), match='$999'>"
      ]
     },
     "execution_count": 22,
     "metadata": {},
     "output_type": "execute_result"
    }
   ],
   "source": [
    "price_pattern = r'\\$\\d+'\n",
    "test_string = \"\"\"The iPhone X costs over $999, while the Android competitor comes in at around $550.\n",
    "Apple's MacBook Pro costs $1200, while just a few years ago it was $1700.\n",
    "A new charger for the MacBook costs over $80.\n",
    "\"\"\"\n",
    "m = re.search(price_pattern, test_string)\n",
    "m"
   ]
  },
  {
   "cell_type": "markdown",
   "metadata": {},
   "source": [
    "The `match` object has everal methods and attributes; the most important ones are `group()`, `start()`, `end()` and `span()`. `group()` returns the string that matched the regex, `start()` and `end()` return the relevant indicies, and `span()` returns the indicies as a tuple."
   ]
  },
  {
   "cell_type": "code",
   "execution_count": 23,
   "metadata": {},
   "outputs": [
    {
     "name": "stdout",
     "output_type": "stream",
     "text": [
      "$999\n",
      "24\n",
      "28\n",
      "(24, 28)\n"
     ]
    }
   ],
   "source": [
    "print(m.group())\n",
    "print(m.start())\n",
    "print(m.end())\n",
    "print(m.span())"
   ]
  },
  {
   "cell_type": "markdown",
   "metadata": {},
   "source": [
    "In general, I prefer just using `re.findall`, because I rarely need the information that `match` object instances give.\n",
    "\n",
    "#### Challenge 9\n",
    "Write a function called `first_vowel` that takes in a single word, and returns the first vowel. If there is no vowel in the word, it should return the string `\"Hey, no vowel!\"`."
   ]
  },
  {
   "cell_type": "code",
   "execution_count": 24,
   "metadata": {},
   "outputs": [],
   "source": [
    "def first_vowel(word):\n",
    "    m = re.search(r'[aeiou]', word)\n",
    "    if m:\n",
    "        return m.group()\n",
    "    else:\n",
    "        return 'Hey, no vowel!'"
   ]
  },
  {
   "cell_type": "code",
   "execution_count": 25,
   "metadata": {},
   "outputs": [
    {
     "name": "stdout",
     "output_type": "stream",
     "text": [
      "e\n",
      "Hey, no vowel!\n"
     ]
    }
   ],
   "source": [
    "print(first_vowel('hello'))\n",
    "print(first_vowel('sky'))"
   ]
  },
  {
   "cell_type": "markdown",
   "metadata": {},
   "source": [
    "### Replacing things\n",
    "\n",
    "So far we've just been finding, but I promised you advanced \"find and replace\"! That's what `re.sub` is for. `re.sub` takes three arguments: a `pattern` to look for, a `replacement` string to replace it with, and a `text` to look for `pattern` in.\n",
    "\n",
    "#### Challenge 10\n",
    "Replace all the prices in the test string below with `\"one million dollars\"`."
   ]
  },
  {
   "cell_type": "code",
   "execution_count": 26,
   "metadata": {},
   "outputs": [],
   "source": [
    "test_string = \"\"\"The iPhone X costs over $999, while the Android competitor comes in at around $550.\n",
    "Apple's MacBook Pro costs $1200, while just a few years ago it was $1700.\n",
    "A new charger for the MacBook costs over $80.\n",
    "\"\"\""
   ]
  },
  {
   "cell_type": "code",
   "execution_count": 27,
   "metadata": {},
   "outputs": [
    {
     "name": "stdout",
     "output_type": "stream",
     "text": [
      "The iPhone X costs over one million dollars, while the Android competitor comes in at around one million dollars.\n",
      "Apple's MacBook Pro costs one million dollars, while just a few years ago it was one million dollars.\n",
      "A new charger for the MacBook costs over one million dollars.\n",
      "\n"
     ]
    }
   ],
   "source": [
    "print(re.sub(r'\\$\\d+', 'one million dollars', test_string))  # without print: gives back raw string with \"\\n\" uninterpreted"
   ]
  },
  {
   "cell_type": "markdown",
   "metadata": {},
   "source": [
    "So far we've used the module-level functions `re.findall` and friends. We can also `compile` a regex into a `pattern` object. The `pattern` object has methods with identical names to the module-level functions. The benefits are if you're searching over huge texts. It's entirely the same as what we've been doing so far so no need to complicate things. But you'll see it around so it's good to know about."
   ]
  },
  {
   "cell_type": "code",
   "execution_count": 28,
   "metadata": {},
   "outputs": [
    {
     "data": {
      "text/plain": [
       "['a', 'a', 'a', 'a', 'a']"
      ]
     },
     "execution_count": 28,
     "metadata": {},
     "output_type": "execute_result"
    }
   ],
   "source": [
    "vowel_pattern = re.compile(r'[aeiou]')\n",
    "test_string = 'abracadabra'\n",
    "vowel_pattern.findall(test_string)"
   ]
  },
  {
   "cell_type": "markdown",
   "metadata": {},
   "source": [
    "You might also want to experiment with `re.split`."
   ]
  },
  {
   "cell_type": "markdown",
   "metadata": {},
   "source": [
    "#### Challenge 11\n",
    "You've received a problematic dataset from a fellow researcher, with some data entry errors/discrepancies. How would you use regular expressions to correct these errors?\n",
    "\n",
    "1. Replace all instances of \"district\" or \"District\" with \"County\". \n",
    "2. Replace all instances of \"Not available\" or \"[Name] looking up\" with numeric codes.  "
   ]
  },
  {
   "cell_type": "code",
   "execution_count": 29,
   "metadata": {},
   "outputs": [
    {
     "name": "stdout",
     "output_type": "stream",
     "text": [
      "FIPS,1990,1980,1970,1960,Name\n",
      "0,248709873,226545805,203211926,179323175,United States\n",
      "6000,29760021,23667902,19953134,15717204,California\n",
      "6001,1279182,1105379,1073184,908209,Alameda County\n",
      "6003,1113,1097,484,397,Alpine County\n",
      "6005,30039,19314,11821,9990,Amador County\n",
      "6007,182120,143851,101969,82030,Butte County\n",
      "6009,31998,20710,13585,10289,Calaveras County\n",
      "6011,16275,Not available,12430,12075,Colusa County\n",
      "6013,803732,656380,Ed looking up,409030,Contra Costa County\n",
      "6015,23460,18217,14580,17771,Del Norte County\n",
      "6017,125995,85812,43833,29390,El Dorado County\n",
      "6019,667490,514621,413053,365945,Fresno County\n",
      "6021,24798,21350,17521,17245,Glenn County\n",
      "6023,119118,108514,99692,104892,Humboldt County\n",
      "6025,109303,92110,74492,72105,Imperial County\n",
      "6027,18281,17895,15571,11684,Inyo County\n",
      "6029,543477,403089,329162,291984,Kern County\n",
      "6031,101469,Not Available,64610,49954,Kings County\n",
      "6033,50631,36366,19548,13786,Lake County\n",
      "6035,27598,21661,14960,13597,Lassen County\n",
      "6037,8863164,7477503,7032075,6038771,Los Angeles County\n",
      "6039,88090,63116,41519,40468,Madera County\n",
      "6041,230096,222568,206038,146820,Marin County\n",
      "6043,14302,11108,6015,5064,Mariposa County\n",
      "6045,80345,66738,51101,51059,Mendocino County\n",
      "6047,178403,134560,104629,90446,Merced County\n",
      "6049,9678,8610,7469,8308,Modoc County\n",
      "6051,9956,8577,4016,2213,Mono County\n",
      "6053,355660,290444,250071,198351,Monterey County\n",
      "6055,110765,99199,79140,65890,Napa County\n",
      "6057,78510,51645,26346,20911,Nevada County\n",
      "6059,2410556,1932709,1420386,703925,Orange County\n",
      "6061,172796,117247,77306,56998,Placer County\n",
      "6063,19739,17340,11707,11620,Plumas County\n",
      "6065,1170413,663166,459074,306191,Riverside County\n",
      "6067,1041219,783381,631498,502778,Sacramento County\n",
      "6069,36697,25005,18226,15396,San Benito County\n",
      "6071,Not Available,Not available,684072,503591,San Bernardi County\n",
      "6073,2498016,1861846,1357854,1033011,San Diego County\n",
      "6075,723959,678974,715674,740316,San Francisco County\n",
      "6077,480628,347342,290208,249989,San Joaquin County\n",
      "6079,217162,155435,105690,81044,San Luis Obispo County\n",
      "6081,649623,587329,556234,444387,San Mateo County\n",
      "6083,369608,298694,264324,168962,Santa Barbara County\n",
      "6085,1497577,1295071,1064714,642315,Santa Clara County\n",
      "6087,229734,188141,123790,84219,Santa Cruz County\n",
      "6089,147036,115715,77640,59468,Shasta County\n",
      "6091,3318,3073,2365,2247,Sierra County\n",
      "6093,43531,39732,33225,32885,Siskiyou County\n",
      "6095,340421,235203,169941,134597,Solano County\n",
      "6097,388222,299681,204885,147375,Sonoma County\n",
      "6099,370522,265900,Samuel looking up,157294,Stanislaus County\n",
      "6101,64415,52246,41935,33380,Sutter County\n",
      "6103,49625,38888,29517,25305,Tehama County\n",
      "6105,13063,11858,7615,9706,Trinity County\n",
      "6107,311921,245738,Janet looking up,168403,Tulare County\n",
      "6109,48456,33928,22169,14404,Tuolumne County\n",
      "6111,669016,529174,376430,199138,Ventura County\n",
      "6113,141092,113374,91788,65727,Yolo County\n",
      "6115,58228,49733,44736,33859,Yuba County\n"
     ]
    }
   ],
   "source": [
    "import os\n",
    "DATA_DIR = './data-RE'\n",
    "fname = os.path.join(DATA_DIR, 'usecase1/problem_dataset.csv')\n",
    "\n",
    "with open(fname) as f:\n",
    "    text = f.read()\n",
    "\n",
    "cleaned_text = re.sub(r'[dD]istrict', 'County', text)   # YOUR CODE GOES HERE - DO SOME REGEX MAGIC.\n",
    "\n",
    "print(cleaned_text)"
   ]
  },
  {
   "cell_type": "markdown",
   "metadata": {},
   "source": [
    "#### Challenge 12\n",
    "Find all words in the following string about robots."
   ]
  },
  {
   "cell_type": "code",
   "execution_count": 30,
   "metadata": {},
   "outputs": [],
   "source": [
    "robot_string = '''Robots are branching out. A new prototype soft robot takes inspiration from plants by growing to explore its environment.\n",
    "\n",
    "Vines and some fungi extend from their tips to explore their surroundings. \n",
    "Elliot Hawkes of the University of California in Santa Barbara \n",
    "and his colleagues designed a bot that works \n",
    "on similar principles. Its mechanical body \n",
    "sits inside a plastic tube reel that extends \n",
    "through pressurized inflation, a method that some \n",
    "invertebrates like peanut worms (Sipunculus nudus)\n",
    "also use to extend their appendages. The plastic \n",
    "tubing has two compartments, and inflating one \n",
    "side or the other changes the extension direction. \n",
    "A camera sensor at the tip alerts the bot when it’s \n",
    "about to run into something.\n",
    "\n",
    "In the lab, Hawkes and his colleagues \n",
    "programmed the robot to form 3-D structures such \n",
    "as a radio antenna, turn off a valve, navigate a maze, \n",
    "swim through glue, act as a fire extinguisher, squeeze \n",
    "through tight gaps, shimmy through fly paper and slither \n",
    "across a bed of nails. The soft bot can extend up to \n",
    "72 meters, and unlike plants, it can grow at a speed of \n",
    "10 meters per second, the team reports July 19 in Science Robotics. \n",
    "The design could serve as a model for building robots \n",
    "that can traverse constrained environments\n",
    "\n",
    "This isn’t the first robot to take \n",
    "inspiration from plants. One plantlike \n",
    "predecessor was a robot modeled on roots.'''"
   ]
  },
  {
   "cell_type": "code",
   "execution_count": null,
   "metadata": {},
   "outputs": [],
   "source": []
  },
  {
   "cell_type": "markdown",
   "metadata": {},
   "source": [
    "#### Challenge 13\n",
    "We can use parentheses to match certain parts of a regular expression."
   ]
  },
  {
   "cell_type": "code",
   "execution_count": 31,
   "metadata": {},
   "outputs": [
    {
     "name": "stdout",
     "output_type": "stream",
     "text": [
      "999\n",
      "99\n"
     ]
    }
   ],
   "source": [
    "price_pattern = r'\\$(\\d+)\\.(\\d{2})'\n",
    "test_string = \"The iPhone X costs over $999.99, while the Android competitor comes in at around $550.50.\"\n",
    "m = re.search(price_pattern, test_string)\n",
    "dollars, cents = m.group(1), m.group(2)\n",
    "print(dollars)\n",
    "print(cents)"
   ]
  },
  {
   "cell_type": "markdown",
   "metadata": {},
   "source": [
    "Use parentheses to group together the area code of a US phone number. Write a function called `area_code` that takes in a string, and if it is a valid US phone number, returns the area code. If not, it should return the string `\"Hey, not a phone number!\"`."
   ]
  },
  {
   "cell_type": "code",
   "execution_count": 32,
   "metadata": {},
   "outputs": [],
   "source": [
    "def area_code(s):\n",
    "    # YOUR CODE GOES HERE.\n",
    "    # RIGHT NOW, THIS SAYS NOT A PHONE NUMBER NO MATTER WHAT THE INPUT IS.\n",
    "    return('Hey, not a phone number!')"
   ]
  },
  {
   "cell_type": "code",
   "execution_count": 33,
   "metadata": {},
   "outputs": [
    {
     "name": "stdout",
     "output_type": "stream",
     "text": [
      "Hey, not a phone number!\n",
      "Hey, not a phone number!\n",
      "Hey, not a phone number!\n"
     ]
    }
   ],
   "source": [
    "print(area_code('this is a test'))\n",
    "print(area_code('thi-sis-test'))\n",
    "print(area_code('510-555-5555'))"
   ]
  },
  {
   "cell_type": "markdown",
   "metadata": {},
   "source": [
    "#### Challenge 14\n",
    "Parentheses can also be used to group together characters in a regular expression so that metacharacters can apply to the entire group, not just a single character."
   ]
  },
  {
   "cell_type": "code",
   "execution_count": 34,
   "metadata": {},
   "outputs": [
    {
     "data": {
      "text/plain": [
       "['wo', '']"
      ]
     },
     "execution_count": 34,
     "metadata": {},
     "output_type": "execute_result"
    }
   ],
   "source": [
    "bat_pattern = r'Bat(wo)?man'\n",
    "test_string = 'Batwoman, Batman and Robin are good friends.'\n",
    "re.findall(bat_pattern, test_string)"
   ]
  },
  {
   "cell_type": "markdown",
   "metadata": {},
   "source": [
    "What went wrong? Well, parentheses have a double life in regular expression syntax. They are used to signal groups like in Challenge 13, but also to let metacharacters apply to those groups. Those two uses interfere with each other. If we want the `?` to apply to the whole `wo` sequence, but we want the whole substring that matches, we have to use a non-capturing group."
   ]
  },
  {
   "cell_type": "code",
   "execution_count": 35,
   "metadata": {},
   "outputs": [
    {
     "data": {
      "text/plain": [
       "['Batwoman', 'Batman']"
      ]
     },
     "execution_count": 35,
     "metadata": {},
     "output_type": "execute_result"
    }
   ],
   "source": [
    "bat_pattern = r'Bat(?:wo)?man'\n",
    "test_string = 'Batwoman, Batman and Robin are good friends.'\n",
    "re.findall(bat_pattern, test_string)"
   ]
  },
  {
   "cell_type": "markdown",
   "metadata": {},
   "source": [
    "### Challenging challenges\n",
    "\n",
    "#### Jane Eyre\n",
    "\n",
    "I've downloaded the entire text of Charlotte Bront&euml;'s _Jane Eyre_ from [Project Gutenberg](https://www.gutenberg.org/). Imagine you're a literary scholar studying various aspects of Bront&euml;'s work. You might begin by extracting out various pieces of information from this book, and comparing them with other works. Here are some tasks you might need to do.\n",
    "\n",
    "- Find all years (e.g. 1847).\n",
    "- Find all direct quotes (text between quotation marks).\n",
    "- Find all Mr.'s, Mrs.'s and and Misses (including the name that comes after it).\n",
    "- Find all lines that use the same word at least twice.\n",
    "- Write a function that takes in a plural noun and returns the singular version.\n",
    "- Write a function that takes in a past tense verb and returns the base form.\n",
    "- Find the relative frequencies of I, you, she, he, we and they.\n",
    "- Find all URLs (before and after that actual text, there's some legal information from Project Gutenberg).\n",
    "- Find all email addresses (see above)\n"
   ]
  },
  {
   "cell_type": "code",
   "execution_count": 40,
   "metadata": {},
   "outputs": [],
   "source": [
    "import os\n",
    "DATA_DIR = './data-RE'\n",
    "fname = os.path.join(DATA_DIR, 'usecase3/jane_eyre.txt')\n",
    "with open(fname) as f:\n",
    "    text = f.read()"
   ]
  },
  {
   "cell_type": "code",
   "execution_count": 41,
   "metadata": {},
   "outputs": [
    {
     "data": {
      "text/plain": [
       "['2007',\n",
       " '1260',\n",
       " '1897',\n",
       " '1897',\n",
       " '1847',\n",
       " '1848',\n",
       " '1260',\n",
       " '1260',\n",
       " '1260',\n",
       " '2001',\n",
       " '2215',\n",
       " '1500',\n",
       " '1887']"
      ]
     },
     "execution_count": 41,
     "metadata": {},
     "output_type": "execute_result"
    }
   ],
   "source": [
    "# find all years - assume they begin with '1' or '2' and are 4 digits long.\n",
    "re.findall(r'[12]\\d{3}', text)"
   ]
  },
  {
   "cell_type": "code",
   "execution_count": 44,
   "metadata": {},
   "outputs": [
    {
     "data": {
      "text/plain": [
       "['http://www.gutenberg.org/dirs/1/2/6/1260',\n",
       " 'http://www.gutenberg.org/license).',\n",
       " 'http://www.gutenberg.org/fundraising/pglaf.',\n",
       " 'http://www.gutenberg.org/about/contact',\n",
       " 'http://www.gutenberg.org/fundraising/donate',\n",
       " 'http://www.gutenberg.org/fundraising/donate',\n",
       " 'http://www.gutenberg.org']"
      ]
     },
     "execution_count": 44,
     "metadata": {},
     "output_type": "execute_result"
    }
   ],
   "source": [
    "# find all URLs.\n",
    "re.findall(r'http.*', text)"
   ]
  },
  {
   "cell_type": "code",
   "execution_count": 45,
   "metadata": {},
   "outputs": [
    {
     "data": {
      "text/plain": [
       "['ccx074@pglaf.org', 'business@pglaf.org', 'gbnewby@pglaf.org']"
      ]
     },
     "execution_count": 45,
     "metadata": {},
     "output_type": "execute_result"
    }
   ],
   "source": [
    "# find all email addresses.\n"
   ]
  },
  {
   "cell_type": "markdown",
   "metadata": {},
   "source": [
    "#### Reddit\n",
    "\n",
    "I've also included a dataset (in csv format) from [Reddit](https://www.reddit.com/). Regular expressions are really useful for working with text data from the web. In the variable `questions`, you'll find all sorts of questions that people ask on the Internet. Find out:\n",
    "\n",
    "- How many of them are \"serious\" (these include the word \"serious\" in some spelling variant)\n",
    "- What words do people use before \"of Reddit\"?"
   ]
  },
  {
   "cell_type": "code",
   "execution_count": 46,
   "metadata": {
    "collapsed": true
   },
   "outputs": [],
   "source": [
    "import os\n",
    "DATA_DIR = './data-RE'\n",
    "import csv\n",
    "fname = os.path.join(DATA_DIR, 'askreddit_2015.csv')\n",
    "with open(fname) as f:\n",
    "    reader = csv.reader(f)\n",
    "    posts_with_header = list(reader)\n",
    "    posts = posts_with_header[1:]\n",
    "    questions = [p[0] for p in posts]"
   ]
  },
  {
   "cell_type": "code",
   "execution_count": 47,
   "metadata": {},
   "outputs": [
    {
     "name": "stdout",
     "output_type": "stream",
     "text": [
      "5 [Serious] Redditors currently in a relationship, besides dinner and a movie, what are your favorite activities for date night?\n",
      "12 (Serious) At the end of a job interview when they ask me, \"So, do you have any questions?\", what are some genuinely good questions to ask?\n",
      "16 What is that one trick that \"they\" really don't want you to know? [Serious]\n",
      "20 [Serious] Redditors who want Trump to become president, why?\n",
      "22 (Serious) People of Reddit who have HIV/AIDS, when did you realize something was wrong?\n",
      "26 [Serious] What are some great apps for smartphones that people might not be aware of?\n",
      "38 [Serious] people who have twin siblings but are not a twin themselves, how is your relationship with your twin brothers or sisters?\n",
      "39 [serious] Therapists/psychiatrists of reddit: what is something that most people think they are alone in experiencing/feeling/thinking?\n",
      "44 [Serious] What's the creepiest TRUE story that happened to you or someone you know?\n",
      "90 [Serious] Redditors who want Bernie Sanders to become president, why?\n",
      "104 [Serious] Photographers of Reddit : What are some simple things that normal people can do to help their photographs look like they are professional quality?\n",
      "120 [Serious] Soldiers of Reddit who've fought in Afghanistan, what preconceptions did you have that turned out to be completely wrong?\n",
      "122 Older Redditors, what are some \"early warning signs\" of trouble that younger folks may not know about? [serious]\n",
      "123 [Serious] National Park Rangers and any other profession that takes you far out into the wilderness. What are the strangest weirdest things you have seen or heard or experienced while out there?\n",
      "129 [Serious]Muslims of Reddit, how much did your life change after 9/11?\n",
      "134 People who have been to prison, what unexpected habits did you pick up inside and stick with following your release? [serious]\n",
      "140 [Serious] What footage does convince you that paranormal things exist?\n",
      "146 [Serious] Health Professionals of Reddit - What are some of the most common things that freak people out about their bodies that is totally and completely normal?\n",
      "148 [Serious] Redditors who have been on a gameshow or any contest on TV, what were some behind the scenes \"rules\" that they tell you before they send you out before the cameras?\n",
      "162 [Serious] People age 18-40s, who do not work or go to school, what do you do in your daily life? How do you sustain it?\n",
      "183 [Serious] What would be the next big issue after Marijuana and gay marriage?\n",
      "186 [Serious] Psychiatrists/Psychologists of Reddit, what is the most profound or insightful thing you have ever heard from a patient with a mental illness?\n",
      "201 [Serious] What are some topics that everybody should have a solid understanding of?\n",
      "207 [Serious] Reddit, what are some 'once in a lifetime' occurances that have been captured by a camera?\n",
      "255 How should France and the rest of the world react following the terrorist attacks? [Serious]\n",
      "271 [Serious] Bilinguals of reddit, what was the weirdest conversation that you overheard when the people didn't think you'd understand?\n",
      "285 [Serious] Doctors of Reddit, what are the red flags that people shoud look out for in order to avoid an incompetent or \"bad\" doctor?\n",
      "292 [Serious] Redditors over 50: What have you seen become socially acceptable that you never thought would?\n",
      "295 What do you think people take way too seriously?\n",
      "296 What is the easiest way to accidentally commit a serious crime?\n",
      "310 [Serious] Redditors who know how much time they have left - how does your day look like?\n",
      "315 [Serious] What is something scary that has happened to you that you cannot explain rationally?\n",
      "325 [Serious] Long time teachers of reddit, what differences do you observe in your students today, and the students you taught 5,10,20 years ago?\n",
      "335 Divorced Redditors: What was it that finally made you or your spouse end the marriage? [serious]\n",
      "338 [Serious]What is the stupidest thing you've ever heard someone say with confidence?\n",
      "346 [Serious] How are Japanese students taught about the bombings of Hiroshima and Nagasaki?\n",
      "348 [Serious] Germans of Reddit, in what ways, if at all, does Germany recognize WWII veterans?\n",
      "351 [Serious] Redditors who have lawfully killed someone, what's your story?\n",
      "352 Iraq and Afghanistan veterans, what are some of the good aspects of those countries/cultures that you experienced that we will never hear about from the western media? [serious]\n",
      "360 [Serious] Professors, what is the most simple thing students do which grants them your respect or annoys you to death?\n",
      "363 [Serious] Redditors who live in very remote areas of the world, like Barrow, Alaska, how is life there? What do you do for fun?\n",
      "384 [Serious] What lie are you living?\n",
      "388 [Serious] Garbage Men of Reddit: Have you ever found anything that was so sketchy you reported it to the police? What was it?\n",
      "389 [Serious] What lie are you living?\n",
      "418 [Serious] What's the most horrific thing that happened in your neighbourhood/town?\n",
      "428 [Serious] Reddit, what secret did your spouse keep from you until after you were married?\n",
      "440 [Serious]Redditors who have had to kill in self defense, Did you ever recover psychologically? What is it to live knowing you killed someone regardless you didn't want to do it?\n",
      "446 [Serious] Parents of Reddit who dislike, hate or resent your children, what happened?\n",
      "454 [Serious] Prison Guards/Officers, has there ever been a time where you believed an inmate was truly innocent? What made you believe so?\n",
      "466 [Serious] Job applicants who walked out of an interview before it was over, why did you do it?\n",
      "471 [Serious] actively practicing Muslims, what goes through your mind on a day like today?\n",
      "477 [Serious] What are your scariest/most traumatic stories from your childhood?\n",
      "496 [Serious] How did you respond after your ex wanted you back after leaving you?\n",
      "504 [Serious] People who support Donald Trump becoming president, what are you main reasons? What do you agree with him on?\n",
      "505 [Serious] What is the most mysterious and unexplained video on the internet?\n",
      "523 [Serious] Greeks of Reddit, how did you vote Sunday, and why?\n",
      "536 [Serious] Overthinkers of reddit, How do you control your thoughts or stop over thinking?\n",
      "581 [Serious] What is a passion of yours that you can't talk about because no one around you 'gets' it?\n",
      "582 What's something that fucks a person up deeply but is hard to understand unless it happens to you? [Serious]\n",
      "602 School Bus Drivers of Reddit. What do you folks do between morning pickups and afternoon drop offs?[Serious]\n",
      "610 [Serious] Parents or friends of missing children: what happened?\n",
      "619 [Serious]What is the most wrong someone has been proved to be on live television?\n",
      "620 [Serious] What is the creepiest thing that has ever ACTUALLY happened to you?\n",
      "624 [Serious] What is an item you always bought cheaply, then finally bought an expensive version and realized it was worth paying more?\n",
      "631 [Serious]Clubbers of Reddit (Nightclubs not killing animals), what are your best tips for people new to clubbing?\n",
      "632 [Serious] People of Reddit who have been in a coma, what was it like? Were you conscious at all or were you completely gone? How did you get into the coma and how did you get out?\n",
      "645 [Serious] What inside knowledge can you share with reddit?\n",
      "648 [Serious] How to have a social life without alcohol?\n",
      "658 [Serious] What is an alarming fact that the next generation is going to have to deal with?\n",
      "722 Women that have worked at Hooters or a similar themed restaurant , what is your worst story? [Serious]\n",
      "729 [Serious] What is your go-to sandwich?\n",
      "745 [Serious] Convicted criminals of Reddit who were later proven innocent, what's life like after being found innocent and released?\n",
      "764 [Serious] People who have been in a viral video/photo, how has it affected your life for the better or worse?\n",
      "777 Men of Reddit, what \"feminine\" thing do you wish was more acceptable for men to do? (Serious)\n",
      "792 Redditors who \"went out for cigarettes\" and never came back, why did you leave? Where did you go? What is life like for you now? [Serious]\n",
      "797 [Serious]What's your \"never meet your heroes\" story?\n",
      "833 [Serious] Guys of reddit, what's the creepiest thing a lady has done that was meant to be romantic?\n",
      "835 [Serious] What have you done in real life that deserves gold?\n",
      "846 [serious] Redditors who have survived a plane crash - how did people react on the way down?\n",
      "847 [serious] Redditors of Russia, has the crisis and sanctions imposed by the US and EU influenced you personally? If so, how?\n",
      "850 [serious] Prison workers of Reddit. Have you ever met an ex inmate of 'yours' out of prison? If so, what happened?\n",
      "865 [Serious] Ladies, what's the creepiest thing a guy has done that was meant to be 'romantic'?\n"
     ]
    }
   ],
   "source": [
    "# print out questions that include the word 'serious' in some form.\n"
   ]
  }
 ],
 "metadata": {
  "anaconda-cloud": {},
  "kernelspec": {
   "display_name": "Python 3",
   "language": "python",
   "name": "python3"
  },
  "language_info": {
   "codemirror_mode": {
    "name": "ipython",
    "version": 3
   },
   "file_extension": ".py",
   "mimetype": "text/x-python",
   "name": "python",
   "nbconvert_exporter": "python",
   "pygments_lexer": "ipython3",
   "version": "3.8.5"
  }
 },
 "nbformat": 4,
 "nbformat_minor": 1
}
